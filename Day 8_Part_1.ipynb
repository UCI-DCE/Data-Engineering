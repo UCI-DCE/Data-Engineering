{
  "nbformat": 4,
  "nbformat_minor": 0,
  "metadata": {
    "colab": {
      "provenance": []
    },
    "kernelspec": {
      "name": "python3",
      "display_name": "Python 3"
    },
    "language_info": {
      "name": "python"
    }
  },
  "cells": [
    {
      "cell_type": "markdown",
      "source": [
        "### Spark Streaming Analysis\n",
        "*  What is the processing paradigm used in Spark Streaming?\n",
        "  * Spark Streaming processes data in small, discrete batches. This approach enables near real-time processing by continuously ingesting, processing, and outputting data in small time intervals.\n",
        "* What parameters define a Spark Streaming context?\n",
        "  *  Spark cluster master URL, AppName, and Batch Time Interval\n",
        "\n",
        "* What are the transformations used in Spark Streaming?\n",
        "  * Stateless\n",
        "    * These transformations operate on individual batches of data independently, such as map, flatMap, filter, etc.\n",
        "  \n",
        "  * Stateful transformation\n",
        "    * These transformations maintain state across batches, enabling operations like windowed aggregations, sessionization, etc.,\n",
        "* What are the ways that Spark Streaming is being leveraged?\n",
        "  * Event Triggers: Responding to specific events or triggers in real-time data streams.\n",
        "  \n",
        "  \n",
        "   * Data Augmentation:Enriching or enhancing streaming data with additional information from external sources or reference data.\n",
        "   * Streaming ETL: Performing real-time ETL operations on streaming data, such as filtering, aggregating, joining, and transforming data streams before loading them into a target system or storage.\n",
        "\n",
        "### Sample presentation <br>\n",
        "\n",
        "https://drive.google.com/drive/u/0/folders/1KiUWkVAuKl-FpZNQUqwDsnUNdcuH2HLU"
      ],
      "metadata": {
        "id": "qUR9aPlfDjNj"
      }
    },
    {
      "cell_type": "markdown",
      "source": [
        "# Part I: Spark Streaming"
      ],
      "metadata": {
        "id": "NUhbXAaZBSwN"
      }
    },
    {
      "cell_type": "code",
      "execution_count": 1,
      "metadata": {
        "colab": {
          "base_uri": "https://localhost:8080/"
        },
        "id": "yiQjG9Qb96ur",
        "outputId": "fadc08a0-1a58-47fc-bcb9-eb842e9c3c34"
      },
      "outputs": [
        {
          "output_type": "stream",
          "name": "stdout",
          "text": [
            "Mounted at /content/drive\n"
          ]
        }
      ],
      "source": [
        "from google.colab import drive\n",
        "drive.mount('/content/drive')"
      ]
    },
    {
      "cell_type": "code",
      "source": [
        "import os\n",
        "\n",
        "# Install Java if not already installed\n",
        "!apt-get install openjdk-8-jdk-headless -qq > /dev/null\n",
        "\n",
        "# Define the URL and file name for Hadoop\n",
        "hadoop_url = \"https://downloads.apache.org/hadoop/common/hadoop-3.4.0/hadoop-3.4.0.tar.gz\"\n",
        "hadoop_file = \"hadoop-3.4.0.tar.gz\"\n",
        "\n",
        "# Check if the Hadoop tar.gz file already exists\n",
        "if not os.path.exists(hadoop_file):\n",
        "    # Download the Hadoop tar.gz file if it doesn't exist\n",
        "    !wget -q $hadoop_url\n",
        "else:\n",
        "    print(\"Hadoop tar.gz file already exists. Skipping download.\")\n",
        "\n",
        "# Extract the Hadoop tar.gz file\n",
        "!tar -xzf $hadoop_file\n"
      ],
      "metadata": {
        "id": "CkvsnuQh-F2U"
      },
      "execution_count": 2,
      "outputs": []
    },
    {
      "cell_type": "code",
      "source": [
        "# Set the path to your Hadoop installation\n",
        "#hadoop_path = '/content/hadoop-3.4.0'\n",
        "# Set environment variables\n",
        "os.environ['JAVA_HOME'] = '/usr/lib/jvm/java-8-openjdk-amd64'"
      ],
      "metadata": {
        "id": "KzJFwCIb-L2j"
      },
      "execution_count": 3,
      "outputs": []
    },
    {
      "cell_type": "code",
      "source": [
        "!pip install -q findspark\n",
        "!pip3 install pyspark==3.5.1\n",
        "import findspark\n",
        "findspark.init()"
      ],
      "metadata": {
        "colab": {
          "base_uri": "https://localhost:8080/"
        },
        "id": "EQQ3FIWb-RY4",
        "outputId": "a0de7d35-615b-4e1a-834c-31e1f178c21e"
      },
      "execution_count": 4,
      "outputs": [
        {
          "output_type": "stream",
          "name": "stdout",
          "text": [
            "Collecting pyspark==3.5.1\n",
            "  Downloading pyspark-3.5.1.tar.gz (317.0 MB)\n",
            "\u001b[2K     \u001b[90m━━━━━━━━━━━━━━━━━━━━━━━━━━━━━━━━━━━━━━━━\u001b[0m \u001b[32m317.0/317.0 MB\u001b[0m \u001b[31m2.7 MB/s\u001b[0m eta \u001b[36m0:00:00\u001b[0m\n",
            "\u001b[?25h  Preparing metadata (setup.py) ... \u001b[?25l\u001b[?25hdone\n",
            "Requirement already satisfied: py4j==0.10.9.7 in /usr/local/lib/python3.10/dist-packages (from pyspark==3.5.1) (0.10.9.7)\n",
            "Building wheels for collected packages: pyspark\n",
            "  Building wheel for pyspark (setup.py) ... \u001b[?25l\u001b[?25hdone\n",
            "  Created wheel for pyspark: filename=pyspark-3.5.1-py2.py3-none-any.whl size=317488491 sha256=f5f3bd33043ffb9f04d31e9d0696072aa2737db06d2cb8cac351c15b8b20fd25\n",
            "  Stored in directory: /root/.cache/pip/wheels/80/1d/60/2c256ed38dddce2fdd93be545214a63e02fbd8d74fb0b7f3a6\n",
            "Successfully built pyspark\n",
            "Installing collected packages: pyspark\n",
            "Successfully installed pyspark-3.5.1\n"
          ]
        }
      ]
    },
    {
      "cell_type": "markdown",
      "source": [
        "# Step 1: Check if the port is in use"
      ],
      "metadata": {
        "id": "tWpPoROU-_cP"
      }
    },
    {
      "cell_type": "code",
      "source": [
        "import os\n",
        "\n",
        "def is_port_in_use(port):\n",
        "    # Run the lsof command to check if the port is in use\n",
        "    result = os.popen(f\"lsof -i :{port}\").read()\n",
        "    if result:\n",
        "        # If the result is not empty, return the PID of the process using the port\n",
        "        pid = int(result.split(\"\\n\")[1].split()[1])\n",
        "        return True, pid\n",
        "    return False, None\n"
      ],
      "metadata": {
        "colab": {
          "base_uri": "https://localhost:8080/"
        },
        "id": "TgP-bezb-9TN",
        "outputId": "99844bcb-c014-43d8-aa0d-bdec3c6b27b2"
      },
      "execution_count": 5,
      "outputs": [
        {
          "output_type": "stream",
          "name": "stdout",
          "text": [
            "Port 9999 is not in use\n"
          ]
        }
      ]
    },
    {
      "cell_type": "code",
      "source": [
        "\n",
        "# Check if port 9999 is in use\n",
        "port_in_use, pid = is_port_in_use(9999)\n",
        "if port_in_use:\n",
        "    print(f\"Port 9999 is in use by process {pid}\")\n",
        "else:\n",
        "    print(\"Port 9999 is not in use\")\n"
      ],
      "metadata": {
        "colab": {
          "base_uri": "https://localhost:8080/"
        },
        "id": "eEdmqJ7_C76F",
        "outputId": "ad4a3971-5c76-4ee5-baee-f97aaf2919f0"
      },
      "execution_count": 10,
      "outputs": [
        {
          "output_type": "stream",
          "name": "stdout",
          "text": [
            "-------------------------------------------\n",
            "Time: 2024-05-31 14:26:47\n",
            "-------------------------------------------\n",
            "\n",
            "Port 9999 is not in use\n"
          ]
        }
      ]
    },
    {
      "cell_type": "markdown",
      "source": [
        "#2. Skip it if the port is not in use"
      ],
      "metadata": {
        "id": "9b24tBg_Ba-J"
      }
    },
    {
      "cell_type": "code",
      "source": [
        "# if in use, kill it\n",
        "import signal\n",
        "\n",
        "def kill_process_using_port(port):\n",
        "    port_in_use, pid = is_port_in_use(port)\n",
        "    if port_in_use and pid:\n",
        "        os.kill(pid, signal.SIGKILL)\n",
        "        print(f\"Process {pid} using port {port} has been killed\")\n",
        "    else:\n",
        "        print(f\"No process is using port {port}\")\n",
        "\n",
        "# Kill the process using port 9999 if it is in use\n",
        "kill_process_using_port(9999)\n"
      ],
      "metadata": {
        "id": "PdZ6gj7H_L4q"
      },
      "execution_count": null,
      "outputs": []
    },
    {
      "cell_type": "markdown",
      "source": [
        "#Step 3: Create a server start/stop function"
      ],
      "metadata": {
        "id": "bSNYvAtzBmb0"
      }
    },
    {
      "cell_type": "code",
      "source": [
        "import socket\n",
        "import threading\n",
        "import time\n",
        "\n",
        "class StoppableSocketServer:\n",
        "    def __init__(self, host, port):\n",
        "        self.host = host\n",
        "        self.port = port\n",
        "        self.server_socket = None\n",
        "        self.thread = None\n",
        "        self.is_running = False\n",
        "\n",
        "    def start(self):\n",
        "        if self.is_running:\n",
        "            print(\"Server is already running\")\n",
        "            return\n",
        "\n",
        "        self.server_socket = socket.socket(socket.AF_INET, socket.SOCK_STREAM)\n",
        "        self.server_socket.bind((self.host, self.port))\n",
        "        self.server_socket.listen(1)\n",
        "        self.is_running = True\n",
        "        self.thread = threading.Thread(target=self._run)\n",
        "        self.thread.start()\n",
        "        print(f\"Socket server started on port {self.port}\")\n",
        "\n",
        "    def _run(self):\n",
        "        while self.is_running:\n",
        "            client_socket, addr = self.server_socket.accept()\n",
        "            print(f\"Connection from: {addr}\")\n",
        "            for i in range(10):  # send some example data\n",
        "                if not self.is_running:\n",
        "                    break\n",
        "                message = f\"Value:{i}\\n\"\n",
        "                client_socket.send(message.encode())\n",
        "                time.sleep(1)\n",
        "            client_socket.close()\n",
        "\n",
        "    def stop(self):\n",
        "        if not self.is_running:\n",
        "            print(\"Server is not running\")\n",
        "            return\n",
        "        self.is_running = False\n",
        "        self.server_socket.close()\n",
        "        self.thread.join()\n",
        "        print(f\"Socket server on port {self.port} stopped\")\n",
        "\n",
        "# Create an instance of the socket server\n",
        "server = StoppableSocketServer(\"localhost\", 9999)\n"
      ],
      "metadata": {
        "id": "l1mpPa4P-uGu"
      },
      "execution_count": 6,
      "outputs": []
    },
    {
      "cell_type": "markdown",
      "source": [
        "# Step 4: Start server"
      ],
      "metadata": {
        "id": "nSpuUYDlB5wR"
      }
    },
    {
      "cell_type": "code",
      "source": [
        "# Start the server\n",
        "server.start()"
      ],
      "metadata": {
        "colab": {
          "base_uri": "https://localhost:8080/"
        },
        "id": "OqZ_gfZs-ycx",
        "outputId": "e8fa4222-6a9a-46bd-de2b-d78123b5da1b"
      },
      "execution_count": 11,
      "outputs": [
        {
          "output_type": "stream",
          "name": "stdout",
          "text": [
            "-------------------------------------------\n",
            "Time: 2024-05-31 14:27:01\n",
            "-------------------------------------------\n",
            "\n",
            "Socket server started on port 9999\n"
          ]
        }
      ]
    },
    {
      "cell_type": "markdown",
      "source": [
        "# Step 5: Streaming Socket data"
      ],
      "metadata": {
        "id": "NwwJ3CU1CJCk"
      }
    },
    {
      "cell_type": "code",
      "source": [
        "from pyspark.sql import SparkSession\n",
        "from pyspark.streaming import StreamingContext\n",
        "\n",
        "# Function to stop active contexts\n",
        "def stop_active_contexts():\n",
        "    global ssc\n",
        "    if 'ssc' in globals() and ssc is not None:\n",
        "        ssc.stop(stopSparkContext=False, stopGraceFully=True)\n",
        "        ssc = None\n",
        "    if 'spark' in globals():\n",
        "        spark.stop()\n",
        "\n",
        "# Stop any active Spark and Streaming contexts\n",
        "stop_active_contexts()\n",
        "\n",
        "# Initialize Spark session\n",
        "spark = SparkSession.builder.master(\"local[*]\").appName(\"SocketStreaming\").getOrCreate()\n",
        "\n",
        "# Initialize StreamingContext with a batch interval of 1 second\n",
        "ssc = StreamingContext(spark.sparkContext, 1)\n",
        "\n",
        "# Define the socket stream\n",
        "lines = ssc.socketTextStream(\"localhost\", 9999)\n",
        "\n",
        "# Perform some transformations (e.g., count each batch)\n",
        "counts = lines.flatMap(lambda line: line.split(\" \")) \\\n",
        "              .filter(lambda word: word.startswith(\"Value:\")) \\\n",
        "              .map(lambda word: (word, 1)) \\\n",
        "              .reduceByKey(lambda a, b: a + b)\n",
        "\n",
        "# Print the results to the console\n",
        "counts.pprint()\n",
        "\n",
        "# Start the streaming computation and wait for one minute\n",
        "ssc.start()\n",
        "ssc.awaitTerminationOrTimeout(60)  # Stop after one minute\n"
      ],
      "metadata": {
        "colab": {
          "base_uri": "https://localhost:8080/"
        },
        "id": "VIYyTTX9C3L1",
        "outputId": "6ec6990b-5858-4eb2-a840-9c6408266dc8"
      },
      "execution_count": 12,
      "outputs": [
        {
          "output_type": "stream",
          "name": "stdout",
          "text": [
            "-------------------------------------------\n",
            "Time: 2024-05-31 14:27:12\n",
            "-------------------------------------------\n",
            "('Value:9', 1)\n",
            "\n",
            "-------------------------------------------\n",
            "Time: 2024-05-31 14:27:13\n",
            "-------------------------------------------\n",
            "\n",
            "-------------------------------------------\n",
            "Time: 2024-05-31 14:27:14\n",
            "-------------------------------------------\n",
            "\n",
            "-------------------------------------------\n",
            "Time: 2024-05-31 14:27:15\n",
            "-------------------------------------------\n",
            "\n"
          ]
        },
        {
          "output_type": "stream",
          "name": "stderr",
          "text": [
            "/usr/local/lib/python3.10/dist-packages/pyspark/streaming/context.py:72: FutureWarning: DStream is deprecated as of Spark 3.4.0. Migrate to Structured Streaming.\n",
            "  warnings.warn(\n"
          ]
        },
        {
          "output_type": "stream",
          "name": "stdout",
          "text": [
            "Connection from: ('127.0.0.1', 56094)\n",
            "-------------------------------------------\n",
            "Time: 2024-05-31 14:27:18\n",
            "-------------------------------------------\n",
            "('Value:0', 1)\n",
            "\n",
            "-------------------------------------------\n",
            "Time: 2024-05-31 14:27:19\n",
            "-------------------------------------------\n",
            "('Value:1', 1)\n",
            "\n",
            "-------------------------------------------\n",
            "Time: 2024-05-31 14:27:20\n",
            "-------------------------------------------\n",
            "('Value:2', 1)\n",
            "\n",
            "-------------------------------------------\n",
            "Time: 2024-05-31 14:27:21\n",
            "-------------------------------------------\n",
            "('Value:3', 1)\n",
            "\n",
            "-------------------------------------------\n",
            "Time: 2024-05-31 14:27:22\n",
            "-------------------------------------------\n",
            "('Value:4', 1)\n",
            "\n",
            "-------------------------------------------\n",
            "Time: 2024-05-31 14:27:23\n",
            "-------------------------------------------\n",
            "('Value:5', 1)\n",
            "\n",
            "-------------------------------------------\n",
            "Time: 2024-05-31 14:27:24\n",
            "-------------------------------------------\n",
            "('Value:6', 1)\n",
            "\n",
            "-------------------------------------------\n",
            "Time: 2024-05-31 14:27:25\n",
            "-------------------------------------------\n",
            "('Value:7', 1)\n",
            "\n",
            "-------------------------------------------\n",
            "Time: 2024-05-31 14:27:26\n",
            "-------------------------------------------\n",
            "('Value:8', 1)\n",
            "\n",
            "-------------------------------------------\n",
            "Time: 2024-05-31 14:27:27\n",
            "-------------------------------------------\n",
            "('Value:9', 1)\n",
            "\n",
            "Connection from: ('127.0.0.1', 59692)\n",
            "-------------------------------------------\n",
            "Time: 2024-05-31 14:27:28\n",
            "-------------------------------------------\n",
            "\n",
            "-------------------------------------------\n",
            "Time: 2024-05-31 14:27:29\n",
            "-------------------------------------------\n",
            "\n",
            "-------------------------------------------\n",
            "Time: 2024-05-31 14:27:30\n",
            "-------------------------------------------\n",
            "('Value:0', 1)\n",
            "\n",
            "-------------------------------------------\n",
            "Time: 2024-05-31 14:27:31\n",
            "-------------------------------------------\n",
            "('Value:1', 1)\n",
            "\n",
            "-------------------------------------------\n",
            "Time: 2024-05-31 14:27:32\n",
            "-------------------------------------------\n",
            "('Value:2', 1)\n",
            "\n",
            "-------------------------------------------\n",
            "Time: 2024-05-31 14:27:33\n",
            "-------------------------------------------\n",
            "('Value:3', 1)\n",
            "\n",
            "-------------------------------------------\n",
            "Time: 2024-05-31 14:27:34\n",
            "-------------------------------------------\n",
            "('Value:4', 1)\n",
            "\n",
            "-------------------------------------------\n",
            "Time: 2024-05-31 14:27:35\n",
            "-------------------------------------------\n",
            "('Value:5', 1)\n",
            "\n",
            "-------------------------------------------\n",
            "Time: 2024-05-31 14:27:36\n",
            "-------------------------------------------\n",
            "('Value:6', 1)\n",
            "\n",
            "-------------------------------------------\n",
            "Time: 2024-05-31 14:27:37\n",
            "-------------------------------------------\n",
            "('Value:7', 1)\n",
            "\n",
            "-------------------------------------------\n",
            "Time: 2024-05-31 14:27:38\n",
            "-------------------------------------------\n",
            "('Value:8', 1)\n",
            "\n",
            "-------------------------------------------\n",
            "Time: 2024-05-31 14:27:39\n",
            "-------------------------------------------\n",
            "('Value:9', 1)\n",
            "\n",
            "Connection from: ('127.0.0.1', 53720)\n",
            "-------------------------------------------\n",
            "Time: 2024-05-31 14:27:40\n",
            "-------------------------------------------\n",
            "\n",
            "-------------------------------------------\n",
            "Time: 2024-05-31 14:27:41\n",
            "-------------------------------------------\n",
            "\n",
            "-------------------------------------------\n",
            "Time: 2024-05-31 14:27:42\n",
            "-------------------------------------------\n",
            "('Value:0', 1)\n",
            "\n",
            "-------------------------------------------\n",
            "Time: 2024-05-31 14:27:43\n",
            "-------------------------------------------\n",
            "('Value:1', 1)\n",
            "\n",
            "-------------------------------------------\n",
            "Time: 2024-05-31 14:27:44\n",
            "-------------------------------------------\n",
            "('Value:2', 1)\n",
            "\n",
            "-------------------------------------------\n",
            "Time: 2024-05-31 14:27:45\n",
            "-------------------------------------------\n",
            "('Value:3', 1)\n",
            "\n",
            "-------------------------------------------\n",
            "Time: 2024-05-31 14:27:46\n",
            "-------------------------------------------\n",
            "('Value:4', 1)\n",
            "\n",
            "-------------------------------------------\n",
            "Time: 2024-05-31 14:27:47\n",
            "-------------------------------------------\n",
            "('Value:5', 1)\n",
            "\n",
            "-------------------------------------------\n",
            "Time: 2024-05-31 14:27:48\n",
            "-------------------------------------------\n",
            "('Value:6', 1)\n",
            "\n",
            "-------------------------------------------\n",
            "Time: 2024-05-31 14:27:49\n",
            "-------------------------------------------\n",
            "('Value:7', 1)\n",
            "\n",
            "-------------------------------------------\n",
            "Time: 2024-05-31 14:27:50\n",
            "-------------------------------------------\n",
            "('Value:8', 1)\n",
            "\n",
            "Connection from: ('127.0.0.1', 56924)\n",
            "-------------------------------------------\n",
            "Time: 2024-05-31 14:27:51\n",
            "-------------------------------------------\n",
            "('Value:9', 1)\n",
            "\n",
            "-------------------------------------------\n",
            "Time: 2024-05-31 14:27:52\n",
            "-------------------------------------------\n",
            "\n",
            "-------------------------------------------\n",
            "Time: 2024-05-31 14:27:53\n",
            "-------------------------------------------\n",
            "\n",
            "-------------------------------------------\n",
            "Time: 2024-05-31 14:27:54\n",
            "-------------------------------------------\n",
            "('Value:0', 1)\n",
            "\n",
            "-------------------------------------------\n",
            "Time: 2024-05-31 14:27:55\n",
            "-------------------------------------------\n",
            "('Value:1', 1)\n",
            "\n",
            "-------------------------------------------\n",
            "Time: 2024-05-31 14:27:56\n",
            "-------------------------------------------\n",
            "('Value:2', 1)\n",
            "\n",
            "-------------------------------------------\n",
            "Time: 2024-05-31 14:27:57\n",
            "-------------------------------------------\n",
            "('Value:3', 1)\n",
            "\n",
            "-------------------------------------------\n",
            "Time: 2024-05-31 14:27:58\n",
            "-------------------------------------------\n",
            "('Value:4', 1)\n",
            "\n",
            "-------------------------------------------\n",
            "Time: 2024-05-31 14:27:59\n",
            "-------------------------------------------\n",
            "('Value:5', 1)\n",
            "\n",
            "-------------------------------------------\n",
            "Time: 2024-05-31 14:28:00\n",
            "-------------------------------------------\n",
            "('Value:6', 1)\n",
            "\n",
            "-------------------------------------------\n",
            "Time: 2024-05-31 14:28:01\n",
            "-------------------------------------------\n",
            "('Value:7', 1)\n",
            "\n",
            "-------------------------------------------\n",
            "Time: 2024-05-31 14:28:02\n",
            "-------------------------------------------\n",
            "('Value:8', 1)\n",
            "\n",
            "-------------------------------------------\n",
            "Time: 2024-05-31 14:28:03\n",
            "-------------------------------------------\n",
            "('Value:9', 1)\n",
            "\n",
            "-------------------------------------------\n",
            "Time: 2024-05-31 14:28:04\n",
            "-------------------------------------------\n",
            "\n",
            "Connection from: ('127.0.0.1', 45884)\n",
            "-------------------------------------------\n",
            "Time: 2024-05-31 14:28:05\n",
            "-------------------------------------------\n",
            "\n",
            "-------------------------------------------\n",
            "Time: 2024-05-31 14:28:06\n",
            "-------------------------------------------\n",
            "('Value:0', 1)\n",
            "\n",
            "-------------------------------------------\n",
            "Time: 2024-05-31 14:28:07\n",
            "-------------------------------------------\n",
            "('Value:1', 1)\n",
            "\n",
            "-------------------------------------------\n",
            "Time: 2024-05-31 14:28:08\n",
            "-------------------------------------------\n",
            "('Value:2', 1)\n",
            "\n",
            "-------------------------------------------\n",
            "Time: 2024-05-31 14:28:09\n",
            "-------------------------------------------\n",
            "('Value:3', 1)\n",
            "\n",
            "-------------------------------------------\n",
            "Time: 2024-05-31 14:28:10\n",
            "-------------------------------------------\n",
            "('Value:4', 1)\n",
            "\n",
            "-------------------------------------------\n",
            "Time: 2024-05-31 14:28:11\n",
            "-------------------------------------------\n",
            "('Value:5', 1)\n",
            "\n",
            "-------------------------------------------\n",
            "Time: 2024-05-31 14:28:12\n",
            "-------------------------------------------\n",
            "('Value:6', 1)\n",
            "\n",
            "-------------------------------------------\n",
            "Time: 2024-05-31 14:28:13\n",
            "-------------------------------------------\n",
            "('Value:7', 1)\n",
            "\n",
            "-------------------------------------------\n",
            "Time: 2024-05-31 14:28:14\n",
            "-------------------------------------------\n",
            "('Value:8', 1)\n",
            "\n",
            "-------------------------------------------\n",
            "Time: 2024-05-31 14:28:15\n",
            "-------------------------------------------\n",
            "('Value:9', 1)\n",
            "\n",
            "-------------------------------------------\n",
            "Time: 2024-05-31 14:28:16\n",
            "-------------------------------------------\n",
            "\n"
          ]
        },
        {
          "output_type": "execute_result",
          "data": {
            "text/plain": [
              "False"
            ]
          },
          "metadata": {},
          "execution_count": 12
        }
      ]
    },
    {
      "cell_type": "markdown",
      "source": [
        "#Step 5:  shut down the server when it is done."
      ],
      "metadata": {
        "id": "-TX14IxcCPvV"
      }
    },
    {
      "cell_type": "code",
      "source": [
        "# Start the server\n",
        "server.stop()"
      ],
      "metadata": {
        "colab": {
          "base_uri": "https://localhost:8080/"
        },
        "id": "SFZdXJ2-Ai5a",
        "outputId": "5e323c1d-e3d9-4459-ea4a-434eb5ad5474"
      },
      "execution_count": 13,
      "outputs": [
        {
          "output_type": "stream",
          "name": "stdout",
          "text": [
            "-------------------------------------------\n",
            "Time: 2024-05-31 14:28:23\n",
            "-------------------------------------------\n",
            "('Value:5', 1)\n",
            "\n",
            "Socket server on port 9999 stopped\n"
          ]
        }
      ]
    }
  ]
}
