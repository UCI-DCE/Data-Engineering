{
  "nbformat": 4,
  "nbformat_minor": 0,
  "metadata": {
    "colab": {
      "provenance": []
    },
    "kernelspec": {
      "name": "python3",
      "display_name": "Python 3"
    }
  },
  "cells": [
    {
      "cell_type": "markdown",
      "source": [
        "### **Recap**"
      ],
      "metadata": {
        "id": "os_6MENcVq3u"
      }
    },
    {
      "cell_type": "markdown",
      "source": [
        "### `Hadoop` vs. `Spark`\n",
        "* <font color = 'red'>`counters`</font> vs <font color = 'green'>`accumulators`</font>\n",
        "* <font color = 'red'>`map`</font> vs <font color = 'green'>`narrow transformations`</font>\n",
        "* <font color = 'red'>`reduce`</font> vs <font color = 'green'>`wide(shuffle) transformations, actions`</font>\n",
        "* <font color = 'red'>`file based state sharing between workers`</font> vs <font color = 'green'>`Broadcast variables (read-only:lookup table, ML (weights))`</font>\n",
        "* <font color = 'red'>`read/write to files`</font> vs <font color = 'green'>`cached variables (whole dataset: iterative algorithms)`</font>\n",
        "* <font color = 'red'>`eager. Many passes overe the data. write data to disk at each iteration`</font> vs <font color = 'green'>`lazy evaluation`</font>"
      ],
      "metadata": {
        "id": "32A1PYshdub5"
      }
    },
    {
      "cell_type": "markdown",
      "source": [
        "Narrow transformations happens in parallel:\n",
        "* map\n",
        "* filter\n",
        "* flatMap\n",
        "* mapPartitions <br>\n",
        "\n",
        "Wide trransformations from mulitple inputs: shuffle stage:\n",
        "* reduceByKey\n",
        "* sort\n",
        "* sortByKey"
      ],
      "metadata": {
        "id": "hk11Z6pjhiPD"
      }
    },
    {
      "cell_type": "markdown",
      "source": [
        "Action is used to force an action. <br>\n",
        "\n",
        "Jobs within an appl aree exe serially. one spark job for one action.\n",
        "\n",
        "* Stages (single staged job no shuffle needed) <br>\n",
        "\n",
        "* Wilde transfermation : require shuffle, n+1 stages \\\n",
        "\n",
        "* Spark Core consists of two APIs\n",
        "\n",
        "* Structured API consists of DataFrames, Datasets (Scala), Spark SQL\n"
      ],
      "metadata": {
        "id": "nocaJQUtiLKx"
      }
    },
    {
      "cell_type": "markdown",
      "source": [
        "DAG Magic\n",
        "* Pipelining\n",
        "* Can do interesting optimizations by delaying work\n",
        "* We use the DAG to recompute on failure\n",
        "\n",
        "Summary\n",
        "\n",
        "* lazy evaluation\n",
        "* in-memory storage\n",
        "* immutabity allows spark to be easy-to-use\n",
        "* fault-tolerant\n",
        "* scalable\n",
        "* efficient"
      ],
      "metadata": {
        "id": "JlP9IesJnGjY"
      }
    },
    {
      "cell_type": "markdown",
      "source": [
        "Why Broadcast\n",
        "* values are fully sent to executors <br>\n",
        "\n",
        "Remember that eveytime rdd is created, it goes to memory\n",
        "* ensure to unperesist() to release the memory <br>\n",
        "\n",
        "Check configuration\n",
        "* sc.getConf().getAll()\n"
      ],
      "metadata": {
        "id": "wGpw0kSPoHB6"
      }
    },
    {
      "cell_type": "markdown",
      "source": [
        "### **Spark SQL**"
      ],
      "metadata": {
        "id": "Xv27B6HQVybq"
      }
    },
    {
      "cell_type": "markdown",
      "metadata": {
        "id": "11m984jvRxBU"
      },
      "source": [
        "**Setting up PySpark and creating a Spark Session (since this a new Notebook)**"
      ]
    },
    {
      "cell_type": "markdown",
      "metadata": {
        "id": "vTrb_YsFDVsT"
      },
      "source": [
        "**Step 1**: Install Spark"
      ]
    },
    {
      "cell_type": "code",
      "source": [
        "from google.colab import drive\n",
        "drive.mount('/content/drive')"
      ],
      "metadata": {
        "colab": {
          "base_uri": "https://localhost:8080/"
        },
        "id": "yTbkAxL5p1g7",
        "outputId": "cfca9d17-f100-4642-93d4-bcdbbac8d178"
      },
      "execution_count": 1,
      "outputs": [
        {
          "output_type": "stream",
          "name": "stdout",
          "text": [
            "Mounted at /content/drive\n"
          ]
        }
      ]
    },
    {
      "cell_type": "code",
      "source": [
        "import os\n",
        "\n",
        "# Install Java if not already installed\n",
        "!apt-get install openjdk-8-jdk-headless -qq > /dev/null\n",
        "\n",
        "# Define the URL and file name for Hadoop\n",
        "hadoop_url = \"https://downloads.apache.org/hadoop/common/hadoop-3.4.0/hadoop-3.4.0.tar.gz\"\n",
        "hadoop_file = \"hadoop-3.4.0.tar.gz\"\n",
        "\n",
        "# Check if the Hadoop tar.gz file already exists\n",
        "if not os.path.exists(hadoop_file):\n",
        "    # Download the Hadoop tar.gz file if it doesn't exist\n",
        "    !wget -q $hadoop_url\n",
        "else:\n",
        "    print(\"Hadoop tar.gz file already exists. Skipping download.\")\n",
        "\n",
        "# Extract the Hadoop tar.gz file\n",
        "!tar -xzf $hadoop_file"
      ],
      "metadata": {
        "id": "2qY9HjthtVDs"
      },
      "execution_count": 2,
      "outputs": []
    },
    {
      "cell_type": "code",
      "source": [
        "# Set the path to your Hadoop installation\n",
        "hadoop_path = '/content/hadoop-3.4.0'\n",
        "# Set environment variables\n",
        "os.environ['JAVA_HOME'] = '/usr/lib/jvm/java-8-openjdk-amd64'\n",
        "os.environ['HADOOP_HOME'] = hadoop_path"
      ],
      "metadata": {
        "id": "J0rkjegDtvZ_"
      },
      "execution_count": 3,
      "outputs": []
    },
    {
      "cell_type": "code",
      "source": [
        "# install findspark using pip\n",
        "!pip install -q findspark"
      ],
      "metadata": {
        "id": "Dmv0qW7YuKuH"
      },
      "execution_count": 4,
      "outputs": []
    },
    {
      "cell_type": "code",
      "source": [
        "!pip3 install pyspark==3.5.1"
      ],
      "metadata": {
        "id": "OfQbZI1U6gSA",
        "colab": {
          "base_uri": "https://localhost:8080/"
        },
        "outputId": "c82292fa-7c56-40be-9ee7-6447546cce56"
      },
      "execution_count": 5,
      "outputs": [
        {
          "output_type": "stream",
          "name": "stdout",
          "text": [
            "Collecting pyspark==3.5.1\n",
            "  Downloading pyspark-3.5.1.tar.gz (317.0 MB)\n",
            "\u001b[2K     \u001b[90m━━━━━━━━━━━━━━━━━━━━━━━━━━━━━━━━━━━━━━━━\u001b[0m \u001b[32m317.0/317.0 MB\u001b[0m \u001b[31m2.4 MB/s\u001b[0m eta \u001b[36m0:00:00\u001b[0m\n",
            "\u001b[?25h  Preparing metadata (setup.py) ... \u001b[?25l\u001b[?25hdone\n",
            "Requirement already satisfied: py4j==0.10.9.7 in /usr/local/lib/python3.10/dist-packages (from pyspark==3.5.1) (0.10.9.7)\n",
            "Building wheels for collected packages: pyspark\n",
            "  Building wheel for pyspark (setup.py) ... \u001b[?25l\u001b[?25hdone\n",
            "  Created wheel for pyspark: filename=pyspark-3.5.1-py2.py3-none-any.whl size=317488491 sha256=263838f592dced0bf7c748dc503804ff4a5f3121c8f8a7d25c052ad67d40acf1\n",
            "  Stored in directory: /root/.cache/pip/wheels/80/1d/60/2c256ed38dddce2fdd93be545214a63e02fbd8d74fb0b7f3a6\n",
            "Successfully built pyspark\n",
            "Installing collected packages: pyspark\n",
            "Successfully installed pyspark-3.5.1\n"
          ]
        }
      ]
    },
    {
      "cell_type": "code",
      "metadata": {
        "id": "75i_k4uceE1b"
      },
      "source": [
        "import findspark\n",
        "findspark.init()"
      ],
      "execution_count": 6,
      "outputs": []
    },
    {
      "cell_type": "code",
      "source": [
        "# to shutdown Spark. (RUN THIS CELL AS IS)\n",
        "# if Spark is not running no problem\n",
        "# if Spark is running no problem also it will be shutdown\n",
        "#\n",
        "\n",
        "try:\n",
        "    spark\n",
        "    print(f\"{sc.master} appName: {sc.appName}\")\n",
        "    spark.sparkContext.stop()\n",
        "    del spark; del sc\n",
        "    print(f\"Just Shutdown Spark.\")\n",
        "except NameError:\n",
        "    print(\"Spark is NOT currently running\")"
      ],
      "metadata": {
        "colab": {
          "base_uri": "https://localhost:8080/"
        },
        "id": "I66fdUb2Z3xD",
        "outputId": "8d2c2398-7ec1-4101-a1e6-674a540e1a7a"
      },
      "execution_count": 7,
      "outputs": [
        {
          "output_type": "stream",
          "name": "stdout",
          "text": [
            "Spark is NOT currently running\n"
          ]
        }
      ]
    },
    {
      "cell_type": "code",
      "source": [
        "# start Spark Session (RUN THIS CELL AS IS)\n",
        "#Step A: Start Spark by running the following cell\n",
        "\n",
        "from pyspark.sql import SparkSession\n",
        "\n",
        "try:\n",
        "    spark\n",
        "    print(\"Spark is already running\")\n",
        "    print(f\"{sc.master} appName: {sc.appName}\")\n",
        "except NameError:\n",
        "    print('starting Spark')\n",
        "    app_name = 'Day6_Spark_Notebook'\n",
        "    master = \"local[*]\"\n",
        "    spark = SparkSession\\\n",
        "            .builder\\\n",
        "            .appName(app_name)\\\n",
        "            .master(master)\\\n",
        "            .getOrCreate()\n",
        "sc = spark.sparkContext"
      ],
      "metadata": {
        "colab": {
          "base_uri": "https://localhost:8080/"
        },
        "id": "5HUtQTPCZ7IT",
        "outputId": "13aafa26-0285-4ffd-d2f3-708a4c7c5997"
      },
      "execution_count": 8,
      "outputs": [
        {
          "output_type": "stream",
          "name": "stdout",
          "text": [
            "starting Spark\n"
          ]
        }
      ]
    },
    {
      "cell_type": "code",
      "source": [
        "# Import SparkSession\n",
        "#from pyspark.sql import SparkSession\n",
        "# Create a Spark Session\n",
        "#spark = SparkSession.builder.master(\"local[*]\").getOrCreate()\n",
        "# Check Spark Session Information\n",
        "spark\n"
      ],
      "metadata": {
        "colab": {
          "base_uri": "https://localhost:8080/",
          "height": 219
        },
        "id": "Ji03JSROuVcB",
        "outputId": "ae1acdad-5fc2-4e76-9e39-280870991cef"
      },
      "execution_count": 9,
      "outputs": [
        {
          "output_type": "execute_result",
          "data": {
            "text/plain": [
              "<pyspark.sql.session.SparkSession at 0x7e37018f8c10>"
            ],
            "text/html": [
              "\n",
              "            <div>\n",
              "                <p><b>SparkSession - in-memory</b></p>\n",
              "                \n",
              "        <div>\n",
              "            <p><b>SparkContext</b></p>\n",
              "\n",
              "            <p><a href=\"http://3e401b660fc1:4040\">Spark UI</a></p>\n",
              "\n",
              "            <dl>\n",
              "              <dt>Version</dt>\n",
              "                <dd><code>v3.5.1</code></dd>\n",
              "              <dt>Master</dt>\n",
              "                <dd><code>local[*]</code></dd>\n",
              "              <dt>AppName</dt>\n",
              "                <dd><code>Day6_Spark_Notebook</code></dd>\n",
              "            </dl>\n",
              "        </div>\n",
              "        \n",
              "            </div>\n",
              "        "
            ]
          },
          "metadata": {},
          "execution_count": 9
        }
      ]
    },
    {
      "cell_type": "code",
      "source": [
        "import numpy as np # linear algebra\n",
        "import pandas as pd # data processing, CSV file I/O (e.g. pd.read_csv)\n",
        "import seaborn as sns\n",
        "import matplotlib.pyplot as plt"
      ],
      "metadata": {
        "id": "IrTZLP3_e1S9"
      },
      "execution_count": 10,
      "outputs": []
    },
    {
      "cell_type": "markdown",
      "source": [
        "## Spark DataFrame's Key Features\n",
        "* Schema Information: column names and types, making data operations more meaningful and efficient.\n",
        "\n",
        "* Lazy Evaluation: Spark builds up a plan for executing the transformations but doesn't execute them until an action is called.\n",
        "\n",
        "* Optimized Execution: The Catalyst Optimizer in Spark analyzes and optimizes query plans to efficiently execute DataFrame operations, leveraging various optimizations such as predicate pushdown and vectorized execution.\n",
        "\n",
        "* Integration with Spark SQL: Spark DataFrames can be created from SQL queries, and you can execute SQL queries directly on DataFrames.\n",
        "\n",
        "* API Familiarity: Spark DataFrames provide an API that is similar to Pandas DataFrames in Python or data frames in R, making it easy for users familiar with these tools to adapt.\n",
        "\n",
        "* Interoperability: Spark DataFrames can be created from various data sources, including CSV, JSON, Parquet, Avro, Hive tables, and external databases, among others.<br>\n",
        "\n",
        "## Use Cases for Spark DataFrames\n",
        "* Data Cleaning and Transformation: DataFrames are often used for cleaning and transforming large datasets before analysis or machine learning.\n",
        "* Exploratory Data Analysis (EDA): DataFrames provide tools to quickly compute statistics and visualize data distributions.\n",
        "* Data Integration: Combining data from multiple sources can be efficiently handled with Spark DataFrames.\n",
        "* ETL Pipelines: Spark DataFrames are commonly used in Extract, Transform, Load (ETL) processes due to their ability to handle large-scale data transformations and movement."
      ],
      "metadata": {
        "id": "G_CWjMWLoC0J"
      }
    },
    {
      "cell_type": "code",
      "metadata": {
        "id": "ss-D4YjJaiLa"
      },
      "source": [
        "datapath= '/content/drive/MyDrive/Big Data/books.csv'\n",
        "df = spark.read.csv(datapath, header=True, inferSchema=True)"
      ],
      "execution_count": 11,
      "outputs": []
    },
    {
      "cell_type": "code",
      "source": [
        "df.show(5)"
      ],
      "metadata": {
        "colab": {
          "base_uri": "https://localhost:8080/"
        },
        "id": "-0-gsU_f_9Am",
        "outputId": "b9257410-41b8-40be-e45a-7fb6d8a2914f"
      },
      "execution_count": 12,
      "outputs": [
        {
          "output_type": "stream",
          "name": "stdout",
          "text": [
            "+------+--------------------+--------------------+--------------+----------+----------+-------------+---------+-------------+------------------+----------------+---------------+\n",
            "|bookID|               title|             authors|average_rating|      isbn|    isbn13|language_code|num_pages|ratings_count|text_reviews_count|publication_date|      publisher|\n",
            "+------+--------------------+--------------------+--------------+----------+----------+-------------+---------+-------------+------------------+----------------+---------------+\n",
            "|     1|Harry Potter and ...|J.K. Rowling/Mary...|          4.57| 439785960|9.78044E12|          eng|      652|      2095690|             27591|       9/16/2006|Scholastic Inc.|\n",
            "|     2|Harry Potter and ...|J.K. Rowling/Mary...|          4.49| 439358078|9.78044E12|          eng|      870|      2153167|             29221|        9/1/2004|Scholastic Inc.|\n",
            "|     4|Harry Potter and ...|        J.K. Rowling|          4.42| 439554896|9.78044E12|          eng|      352|         6333|               244|       11/1/2003|     Scholastic|\n",
            "|     5|Harry Potter and ...|J.K. Rowling/Mary...|          4.56|043965548X|9.78044E12|          eng|      435|      2339585|             36325|        5/1/2004|Scholastic Inc.|\n",
            "|     8|Harry Potter Boxe...|J.K. Rowling/Mary...|          4.78| 439682584|9.78044E12|          eng|     2690|        41428|               164|       9/13/2004|     Scholastic|\n",
            "+------+--------------------+--------------------+--------------+----------+----------+-------------+---------+-------------+------------------+----------------+---------------+\n",
            "only showing top 5 rows\n",
            "\n"
          ]
        }
      ]
    },
    {
      "cell_type": "code",
      "source": [
        "df.printSchema()"
      ],
      "metadata": {
        "colab": {
          "base_uri": "https://localhost:8080/"
        },
        "id": "PmlffuyJAACp",
        "outputId": "c821141d-fe9c-4cd2-a12b-f6560c60eb30"
      },
      "execution_count": 13,
      "outputs": [
        {
          "output_type": "stream",
          "name": "stdout",
          "text": [
            "root\n",
            " |-- bookID: integer (nullable = true)\n",
            " |-- title: string (nullable = true)\n",
            " |-- authors: string (nullable = true)\n",
            " |-- average_rating: double (nullable = true)\n",
            " |-- isbn: string (nullable = true)\n",
            " |-- isbn13: double (nullable = true)\n",
            " |-- language_code: string (nullable = true)\n",
            " |-- num_pages: integer (nullable = true)\n",
            " |-- ratings_count: integer (nullable = true)\n",
            " |-- text_reviews_count: integer (nullable = true)\n",
            " |-- publication_date: string (nullable = true)\n",
            " |-- publisher: string (nullable = true)\n",
            "\n"
          ]
        }
      ]
    },
    {
      "cell_type": "code",
      "source": [
        "from pyspark.sql.functions import *\n",
        "# Convert the 'average_rating' column to a numeric type\n",
        "#df = df.withColumn(\"rating\", round(col(\"average_rating\"), 1))\n",
        "# Get the top 10 books by rating\n",
        "df.select(\"title\", \"average_rating\") \\\n",
        "   .orderBy(col(\"average_rating\").desc()) \\\n",
        "   .limit(10) \\\n",
        "   .show()"
      ],
      "metadata": {
        "colab": {
          "base_uri": "https://localhost:8080/"
        },
        "id": "qAF4AQyhApz9",
        "outputId": "b3d9af7b-0fa4-47f3-d54a-983d011e48e8"
      },
      "execution_count": 14,
      "outputs": [
        {
          "output_type": "stream",
          "name": "stdout",
          "text": [
            "+--------------------+--------------+\n",
            "|               title|average_rating|\n",
            "+--------------------+--------------+\n",
            "| Winchester Shotguns|           5.0|\n",
            "|The Goon Show  Vo...|           5.0|\n",
            "|The Diamond Color...|           5.0|\n",
            "|Willem de Kooning...|           5.0|\n",
            "|Zone of the Ender...|           5.0|\n",
            "|The Goon Show  Vo...|           5.0|\n",
            "|Bulgakov's the Ma...|           5.0|\n",
            "|Comoediae 1: Acha...|           5.0|\n",
            "|The Complete Theo...|           5.0|\n",
            "|Middlesex Borough...|           5.0|\n",
            "+--------------------+--------------+\n",
            "\n"
          ]
        }
      ]
    },
    {
      "cell_type": "code",
      "source": [
        "# Get the top 5 books by average rating and the average number of pages\n",
        "(df.select(\"title\",\"average_rating\",\"num_pages\")\n",
        "          .groupBy(\"title\")\n",
        "          .agg(avg(\"average_rating\"),avg(\"num_pages\"))\n",
        "          .limit(10)\n",
        "          .show())"
      ],
      "metadata": {
        "colab": {
          "base_uri": "https://localhost:8080/"
        },
        "id": "VIJqKdicLJbV",
        "outputId": "f8f35959-63de-43f8-bb1c-5f18c66ae6be"
      },
      "execution_count": 15,
      "outputs": [
        {
          "output_type": "stream",
          "name": "stdout",
          "text": [
            "+--------------------+-------------------+--------------+\n",
            "|               title|avg(average_rating)|avg(num_pages)|\n",
            "+--------------------+-------------------+--------------+\n",
            "|The Lord of the R...|                4.5|         914.0|\n",
            "|\"Myths of the Und...|               3.75|         276.0|\n",
            "|The Letters of J....|               4.15|         502.0|\n",
            "|That Godless Cour...|               3.59|         228.0|\n",
            "|After Many a Summ...|               3.75|         368.0|\n",
            "|    The Magic Finger|               3.68|          67.0|\n",
            "|The Good Husband ...|               4.07|         213.0|\n",
            "|The King in the W...|                3.6|         410.0|\n",
            "|The Jefferson Bib...|               3.82|         103.0|\n",
            "|The Secret Dreamw...|               3.64|         320.0|\n",
            "+--------------------+-------------------+--------------+\n",
            "\n"
          ]
        }
      ]
    },
    {
      "cell_type": "code",
      "source": [
        "#Find the top 5 authors by rating\n",
        "df.select(\"authors\", \"average_rating\").orderBy(col(\"average_rating\").desc()).limit(5).show()"
      ],
      "metadata": {
        "colab": {
          "base_uri": "https://localhost:8080/"
        },
        "id": "62vRSofUAD6O",
        "outputId": "9ca8fbea-d1c7-4145-8590-e21766b25fa8"
      },
      "execution_count": 16,
      "outputs": [
        {
          "output_type": "stream",
          "name": "stdout",
          "text": [
            "+--------------------+--------------+\n",
            "|             authors|average_rating|\n",
            "+--------------------+--------------+\n",
            "|      Tara MacCarthy|           5.0|\n",
            "|Julie Sylvester/D...|           5.0|\n",
            "|Aristophanes/F.W....|           5.0|\n",
            "|Middlesex Borough...|           5.0|\n",
            "|          Tim Bogenn|           5.0|\n",
            "+--------------------+--------------+\n",
            "\n"
          ]
        }
      ]
    },
    {
      "cell_type": "code",
      "source": [
        "(df.select(\"authors\", \"num_pages\", \"average_rating\")\n",
        "          .groupBy(\"authors\")\n",
        "          .agg(avg(\"num_pages\").alias(\"average_pages\"),\n",
        "               avg(\"average_rating\").alias(\"averaged_rating\"))\n",
        "          .orderBy(col(\"average_pages\").desc())\n",
        "          .limit(10)\n",
        "          .show())"
      ],
      "metadata": {
        "colab": {
          "base_uri": "https://localhost:8080/"
        },
        "id": "2l9IV__yLswY",
        "outputId": "9705113a-bf75-4365-e50f-4b383b641eab"
      },
      "execution_count": 17,
      "outputs": [
        {
          "output_type": "stream",
          "name": "stdout",
          "text": [
            "+--------------------+-------------+---------------+\n",
            "|             authors|average_pages|averaged_rating|\n",
            "+--------------------+-------------+---------------+\n",
            "|Winston S. Church...|       4736.0|           4.45|\n",
            "|Marcel Proust/C.K...|       3400.0|           4.34|\n",
            "|Dennis L. Kasper/...|       2751.0|           4.35|\n",
            "|           Anonymous|       2198.0|            4.7|\n",
            "|Laurence L. Brunt...|       2021.0|           4.29|\n",
            "|Plato/John M. Coo...|       1838.0|           4.35|\n",
            "|      Richard Bausch|       1776.0|           4.18|\n",
            "|Plato/Edith Hamil...|       1776.0|           4.23|\n",
            "|Aristotle/Jonatha...|       1757.0|           4.43|\n",
            "|      Thomas Aquinas|       1716.0|           4.13|\n",
            "+--------------------+-------------+---------------+\n",
            "\n"
          ]
        }
      ]
    },
    {
      "cell_type": "code",
      "source": [
        "# Get the top 10 authors by the total number of ratings (count())\n",
        "(df.select(\"average_rating\", \"authors\")\n",
        "   .groupBy(\"authors\")\n",
        "   .agg(count(\"average_rating\").alias(\"average_rating_counts\"))\n",
        "   .orderBy(col(\"average_rating_counts\").desc())\n",
        "   .limit(10)\n",
        "   .show())"
      ],
      "metadata": {
        "colab": {
          "base_uri": "https://localhost:8080/"
        },
        "id": "7jk36fejCTbF",
        "outputId": "926e23e9-8ed2-411c-86d5-6ed1ff1618fd"
      },
      "execution_count": 18,
      "outputs": [
        {
          "output_type": "stream",
          "name": "stdout",
          "text": [
            "+--------------------+---------------------+\n",
            "|             authors|average_rating_counts|\n",
            "+--------------------+---------------------+\n",
            "|        Stephen King|                   40|\n",
            "|      P.G. Wodehouse|                   40|\n",
            "|    Rumiko Takahashi|                   39|\n",
            "|    Orson Scott Card|                   35|\n",
            "|     Agatha Christie|                   33|\n",
            "|       Piers Anthony|                   30|\n",
            "|     Mercedes Lackey|                   29|\n",
            "|        Sandra Brown|                   29|\n",
            "|        Dick Francis|                   28|\n",
            "|Margaret Weis/Tra...|                   23|\n",
            "+--------------------+---------------------+\n",
            "\n"
          ]
        }
      ]
    },
    {
      "cell_type": "markdown",
      "source": [
        "### <font color = \"\t#b246a8\">**Try to** find the average pages by top 5 rated books <font>\n",
        "\n",
        "\n",
        "\n",
        "\n",
        "### YOUR CODE"
      ],
      "metadata": {
        "id": "vd5auACWCUwU"
      }
    },
    {
      "cell_type": "code",
      "source": [
        "(df.select(\"publication_date\",\"num_pages\", \"average_rating\")\n",
        "   .groupBy(\"publication_date\")\n",
        "   .agg(avg(\"num_pages\").alias(\"AVG_Pages\"), max(\"average_rating\").alias(\"Max_Rating\"))\n",
        "   .orderBy(col(\"Max_Rating\").desc(),col(\"AVG_Pages\").desc())\n",
        "   .limit(5)\n",
        "   .show())"
      ],
      "metadata": {
        "colab": {
          "base_uri": "https://localhost:8080/"
        },
        "id": "p3BXMe3zaeZW",
        "outputId": "f3fb2fce-bb50-4af1-d841-767921058467"
      },
      "execution_count": 19,
      "outputs": [
        {
          "output_type": "stream",
          "name": "stdout",
          "text": [
            "+----------------+-----------------+----------+\n",
            "|publication_date|        AVG_Pages|Max_Rating|\n",
            "+----------------+-----------------+----------+\n",
            "|       5/15/2008|            372.0|       5.0|\n",
            "|       2/22/1922|            364.0|       5.0|\n",
            "|       12/7/2005|            353.5|       5.0|\n",
            "|      11/17/1983|            350.0|       5.0|\n",
            "|        1/1/2002|340.7391304347826|       5.0|\n",
            "+----------------+-----------------+----------+\n",
            "\n"
          ]
        }
      ]
    },
    {
      "cell_type": "code",
      "source": [
        "# Inspect the DataFrame\n",
        "df.describe().show()"
      ],
      "metadata": {
        "colab": {
          "base_uri": "https://localhost:8080/"
        },
        "id": "0HrKmdl5EI7J",
        "outputId": "6f7c4a6f-336f-49a2-f2fe-777ff40b733f"
      },
      "execution_count": 20,
      "outputs": [
        {
          "output_type": "stream",
          "name": "stdout",
          "text": [
            "+-------+------------------+--------------------+--------------------+-------------------+--------------------+--------------------+-------------+------------------+------------------+------------------+----------------+--------------------+\n",
            "|summary|            bookID|               title|             authors|     average_rating|                isbn|              isbn13|language_code|         num_pages|     ratings_count|text_reviews_count|publication_date|           publisher|\n",
            "+-------+------------------+--------------------+--------------------+-------------------+--------------------+--------------------+-------------+------------------+------------------+------------------+----------------+--------------------+\n",
            "|  count|             11123|               11123|               11123|              11123|               11123|               11123|        11123|             11123|             11123|             11123|           11123|               11123|\n",
            "|   mean|21310.856963049537|              1830.4|                NULL|  3.934075339386829| 8.858001014882138E8|9.759880258654748E12|         NULL| 336.4055560550211|17942.848062573048|  542.048098534568|            NULL|                NULL|\n",
            "| stddev|13094.727252344426|  152.04209943301888|                NULL|0.35048531165127855|1.2376761563309767E9|4.429758488691072...|         NULL|241.15262644400408|112499.15347087449| 2576.619589434105|            NULL|                NULL|\n",
            "|    min|                 1|  said the shotgu...|\"John \"\"Red\"\" She...|                0.0|          000100039X|       8.987059752E9|          ale|                 0|                 0|                 0|        1/1/1900|\"Izdavačka agenci...|\n",
            "|    max|             45641|魔戒首部曲：魔戒現身|Éric-Emmanuel Sch...|                5.0|          9998691567|          9.79001E12|          zho|              6576|           4597666|             94265|        9/9/2010|              集英社|\n",
            "+-------+------------------+--------------------+--------------------+-------------------+--------------------+--------------------+-------------+------------------+------------------+------------------+----------------+--------------------+\n",
            "\n"
          ]
        }
      ]
    },
    {
      "cell_type": "code",
      "source": [
        "# Collect the summary statistics\n",
        "summary = df.describe().toPandas()\n",
        "\n",
        "# Transpose the DataFrame\n",
        "transposed_summary = summary.T\n",
        "\n",
        "# Display the transposed summary\n",
        "transposed_summary\n"
      ],
      "metadata": {
        "colab": {
          "base_uri": "https://localhost:8080/",
          "height": 457
        },
        "id": "1jdvRXUAcsxP",
        "outputId": "49611d2e-277e-4636-d3b5-45627ea0df90"
      },
      "execution_count": 21,
      "outputs": [
        {
          "output_type": "execute_result",
          "data": {
            "text/plain": [
              "                        0                     1                      2  \\\n",
              "summary             count                  mean                 stddev   \n",
              "bookID              11123    21310.856963049537     13094.727252344426   \n",
              "title               11123                1830.4     152.04209943301888   \n",
              "authors             11123                  None                   None   \n",
              "average_rating      11123     3.934075339386829    0.35048531165127855   \n",
              "isbn                11123   8.858001014882138E8   1.2376761563309767E9   \n",
              "isbn13              11123  9.759880258654748E12  4.4297584886910724E11   \n",
              "language_code       11123                  None                   None   \n",
              "num_pages           11123     336.4055560550211     241.15262644400408   \n",
              "ratings_count       11123    17942.848062573048     112499.15347087449   \n",
              "text_reviews_count  11123      542.048098534568      2576.619589434105   \n",
              "publication_date    11123                  None                   None   \n",
              "publisher           11123                  None                   None   \n",
              "\n",
              "                                                     3                      4  \n",
              "summary                                            min                    max  \n",
              "bookID                                               1                  45641  \n",
              "title                    said the shotgun to the head.             魔戒首部曲：魔戒現身  \n",
              "authors              \"John \"\"Red\"\" Shea/Mark Wahlberg\"  Éric-Emmanuel Schmitt  \n",
              "average_rating                                     0.0                    5.0  \n",
              "isbn                                        000100039X             9998691567  \n",
              "isbn13                                   8.987059752E9             9.79001E12  \n",
              "language_code                                      ale                    zho  \n",
              "num_pages                                            0                   6576  \n",
              "ratings_count                                        0                4597666  \n",
              "text_reviews_count                                   0                  94265  \n",
              "publication_date                              1/1/1900               9/9/2010  \n",
              "publisher           \"Izdavačka agencija \"\"Draganić\"\"\"                    集英社  "
            ],
            "text/html": [
              "\n",
              "  <div id=\"df-945f5e6c-ee26-4081-b334-190ec29e8a52\" class=\"colab-df-container\">\n",
              "    <div>\n",
              "<style scoped>\n",
              "    .dataframe tbody tr th:only-of-type {\n",
              "        vertical-align: middle;\n",
              "    }\n",
              "\n",
              "    .dataframe tbody tr th {\n",
              "        vertical-align: top;\n",
              "    }\n",
              "\n",
              "    .dataframe thead th {\n",
              "        text-align: right;\n",
              "    }\n",
              "</style>\n",
              "<table border=\"1\" class=\"dataframe\">\n",
              "  <thead>\n",
              "    <tr style=\"text-align: right;\">\n",
              "      <th></th>\n",
              "      <th>0</th>\n",
              "      <th>1</th>\n",
              "      <th>2</th>\n",
              "      <th>3</th>\n",
              "      <th>4</th>\n",
              "    </tr>\n",
              "  </thead>\n",
              "  <tbody>\n",
              "    <tr>\n",
              "      <th>summary</th>\n",
              "      <td>count</td>\n",
              "      <td>mean</td>\n",
              "      <td>stddev</td>\n",
              "      <td>min</td>\n",
              "      <td>max</td>\n",
              "    </tr>\n",
              "    <tr>\n",
              "      <th>bookID</th>\n",
              "      <td>11123</td>\n",
              "      <td>21310.856963049537</td>\n",
              "      <td>13094.727252344426</td>\n",
              "      <td>1</td>\n",
              "      <td>45641</td>\n",
              "    </tr>\n",
              "    <tr>\n",
              "      <th>title</th>\n",
              "      <td>11123</td>\n",
              "      <td>1830.4</td>\n",
              "      <td>152.04209943301888</td>\n",
              "      <td>said the shotgun to the head.</td>\n",
              "      <td>魔戒首部曲：魔戒現身</td>\n",
              "    </tr>\n",
              "    <tr>\n",
              "      <th>authors</th>\n",
              "      <td>11123</td>\n",
              "      <td>None</td>\n",
              "      <td>None</td>\n",
              "      <td>\"John \"\"Red\"\" Shea/Mark Wahlberg\"</td>\n",
              "      <td>Éric-Emmanuel Schmitt</td>\n",
              "    </tr>\n",
              "    <tr>\n",
              "      <th>average_rating</th>\n",
              "      <td>11123</td>\n",
              "      <td>3.934075339386829</td>\n",
              "      <td>0.35048531165127855</td>\n",
              "      <td>0.0</td>\n",
              "      <td>5.0</td>\n",
              "    </tr>\n",
              "    <tr>\n",
              "      <th>isbn</th>\n",
              "      <td>11123</td>\n",
              "      <td>8.858001014882138E8</td>\n",
              "      <td>1.2376761563309767E9</td>\n",
              "      <td>000100039X</td>\n",
              "      <td>9998691567</td>\n",
              "    </tr>\n",
              "    <tr>\n",
              "      <th>isbn13</th>\n",
              "      <td>11123</td>\n",
              "      <td>9.759880258654748E12</td>\n",
              "      <td>4.4297584886910724E11</td>\n",
              "      <td>8.987059752E9</td>\n",
              "      <td>9.79001E12</td>\n",
              "    </tr>\n",
              "    <tr>\n",
              "      <th>language_code</th>\n",
              "      <td>11123</td>\n",
              "      <td>None</td>\n",
              "      <td>None</td>\n",
              "      <td>ale</td>\n",
              "      <td>zho</td>\n",
              "    </tr>\n",
              "    <tr>\n",
              "      <th>num_pages</th>\n",
              "      <td>11123</td>\n",
              "      <td>336.4055560550211</td>\n",
              "      <td>241.15262644400408</td>\n",
              "      <td>0</td>\n",
              "      <td>6576</td>\n",
              "    </tr>\n",
              "    <tr>\n",
              "      <th>ratings_count</th>\n",
              "      <td>11123</td>\n",
              "      <td>17942.848062573048</td>\n",
              "      <td>112499.15347087449</td>\n",
              "      <td>0</td>\n",
              "      <td>4597666</td>\n",
              "    </tr>\n",
              "    <tr>\n",
              "      <th>text_reviews_count</th>\n",
              "      <td>11123</td>\n",
              "      <td>542.048098534568</td>\n",
              "      <td>2576.619589434105</td>\n",
              "      <td>0</td>\n",
              "      <td>94265</td>\n",
              "    </tr>\n",
              "    <tr>\n",
              "      <th>publication_date</th>\n",
              "      <td>11123</td>\n",
              "      <td>None</td>\n",
              "      <td>None</td>\n",
              "      <td>1/1/1900</td>\n",
              "      <td>9/9/2010</td>\n",
              "    </tr>\n",
              "    <tr>\n",
              "      <th>publisher</th>\n",
              "      <td>11123</td>\n",
              "      <td>None</td>\n",
              "      <td>None</td>\n",
              "      <td>\"Izdavačka agencija \"\"Draganić\"\"\"</td>\n",
              "      <td>集英社</td>\n",
              "    </tr>\n",
              "  </tbody>\n",
              "</table>\n",
              "</div>\n",
              "    <div class=\"colab-df-buttons\">\n",
              "\n",
              "  <div class=\"colab-df-container\">\n",
              "    <button class=\"colab-df-convert\" onclick=\"convertToInteractive('df-945f5e6c-ee26-4081-b334-190ec29e8a52')\"\n",
              "            title=\"Convert this dataframe to an interactive table.\"\n",
              "            style=\"display:none;\">\n",
              "\n",
              "  <svg xmlns=\"http://www.w3.org/2000/svg\" height=\"24px\" viewBox=\"0 -960 960 960\">\n",
              "    <path d=\"M120-120v-720h720v720H120Zm60-500h600v-160H180v160Zm220 220h160v-160H400v160Zm0 220h160v-160H400v160ZM180-400h160v-160H180v160Zm440 0h160v-160H620v160ZM180-180h160v-160H180v160Zm440 0h160v-160H620v160Z\"/>\n",
              "  </svg>\n",
              "    </button>\n",
              "\n",
              "  <style>\n",
              "    .colab-df-container {\n",
              "      display:flex;\n",
              "      gap: 12px;\n",
              "    }\n",
              "\n",
              "    .colab-df-convert {\n",
              "      background-color: #E8F0FE;\n",
              "      border: none;\n",
              "      border-radius: 50%;\n",
              "      cursor: pointer;\n",
              "      display: none;\n",
              "      fill: #1967D2;\n",
              "      height: 32px;\n",
              "      padding: 0 0 0 0;\n",
              "      width: 32px;\n",
              "    }\n",
              "\n",
              "    .colab-df-convert:hover {\n",
              "      background-color: #E2EBFA;\n",
              "      box-shadow: 0px 1px 2px rgba(60, 64, 67, 0.3), 0px 1px 3px 1px rgba(60, 64, 67, 0.15);\n",
              "      fill: #174EA6;\n",
              "    }\n",
              "\n",
              "    .colab-df-buttons div {\n",
              "      margin-bottom: 4px;\n",
              "    }\n",
              "\n",
              "    [theme=dark] .colab-df-convert {\n",
              "      background-color: #3B4455;\n",
              "      fill: #D2E3FC;\n",
              "    }\n",
              "\n",
              "    [theme=dark] .colab-df-convert:hover {\n",
              "      background-color: #434B5C;\n",
              "      box-shadow: 0px 1px 3px 1px rgba(0, 0, 0, 0.15);\n",
              "      filter: drop-shadow(0px 1px 2px rgba(0, 0, 0, 0.3));\n",
              "      fill: #FFFFFF;\n",
              "    }\n",
              "  </style>\n",
              "\n",
              "    <script>\n",
              "      const buttonEl =\n",
              "        document.querySelector('#df-945f5e6c-ee26-4081-b334-190ec29e8a52 button.colab-df-convert');\n",
              "      buttonEl.style.display =\n",
              "        google.colab.kernel.accessAllowed ? 'block' : 'none';\n",
              "\n",
              "      async function convertToInteractive(key) {\n",
              "        const element = document.querySelector('#df-945f5e6c-ee26-4081-b334-190ec29e8a52');\n",
              "        const dataTable =\n",
              "          await google.colab.kernel.invokeFunction('convertToInteractive',\n",
              "                                                    [key], {});\n",
              "        if (!dataTable) return;\n",
              "\n",
              "        const docLinkHtml = 'Like what you see? Visit the ' +\n",
              "          '<a target=\"_blank\" href=https://colab.research.google.com/notebooks/data_table.ipynb>data table notebook</a>'\n",
              "          + ' to learn more about interactive tables.';\n",
              "        element.innerHTML = '';\n",
              "        dataTable['output_type'] = 'display_data';\n",
              "        await google.colab.output.renderOutput(dataTable, element);\n",
              "        const docLink = document.createElement('div');\n",
              "        docLink.innerHTML = docLinkHtml;\n",
              "        element.appendChild(docLink);\n",
              "      }\n",
              "    </script>\n",
              "  </div>\n",
              "\n",
              "\n",
              "<div id=\"df-726f7da2-270b-4942-9285-c27c68beaca7\">\n",
              "  <button class=\"colab-df-quickchart\" onclick=\"quickchart('df-726f7da2-270b-4942-9285-c27c68beaca7')\"\n",
              "            title=\"Suggest charts\"\n",
              "            style=\"display:none;\">\n",
              "\n",
              "<svg xmlns=\"http://www.w3.org/2000/svg\" height=\"24px\"viewBox=\"0 0 24 24\"\n",
              "     width=\"24px\">\n",
              "    <g>\n",
              "        <path d=\"M19 3H5c-1.1 0-2 .9-2 2v14c0 1.1.9 2 2 2h14c1.1 0 2-.9 2-2V5c0-1.1-.9-2-2-2zM9 17H7v-7h2v7zm4 0h-2V7h2v10zm4 0h-2v-4h2v4z\"/>\n",
              "    </g>\n",
              "</svg>\n",
              "  </button>\n",
              "\n",
              "<style>\n",
              "  .colab-df-quickchart {\n",
              "      --bg-color: #E8F0FE;\n",
              "      --fill-color: #1967D2;\n",
              "      --hover-bg-color: #E2EBFA;\n",
              "      --hover-fill-color: #174EA6;\n",
              "      --disabled-fill-color: #AAA;\n",
              "      --disabled-bg-color: #DDD;\n",
              "  }\n",
              "\n",
              "  [theme=dark] .colab-df-quickchart {\n",
              "      --bg-color: #3B4455;\n",
              "      --fill-color: #D2E3FC;\n",
              "      --hover-bg-color: #434B5C;\n",
              "      --hover-fill-color: #FFFFFF;\n",
              "      --disabled-bg-color: #3B4455;\n",
              "      --disabled-fill-color: #666;\n",
              "  }\n",
              "\n",
              "  .colab-df-quickchart {\n",
              "    background-color: var(--bg-color);\n",
              "    border: none;\n",
              "    border-radius: 50%;\n",
              "    cursor: pointer;\n",
              "    display: none;\n",
              "    fill: var(--fill-color);\n",
              "    height: 32px;\n",
              "    padding: 0;\n",
              "    width: 32px;\n",
              "  }\n",
              "\n",
              "  .colab-df-quickchart:hover {\n",
              "    background-color: var(--hover-bg-color);\n",
              "    box-shadow: 0 1px 2px rgba(60, 64, 67, 0.3), 0 1px 3px 1px rgba(60, 64, 67, 0.15);\n",
              "    fill: var(--button-hover-fill-color);\n",
              "  }\n",
              "\n",
              "  .colab-df-quickchart-complete:disabled,\n",
              "  .colab-df-quickchart-complete:disabled:hover {\n",
              "    background-color: var(--disabled-bg-color);\n",
              "    fill: var(--disabled-fill-color);\n",
              "    box-shadow: none;\n",
              "  }\n",
              "\n",
              "  .colab-df-spinner {\n",
              "    border: 2px solid var(--fill-color);\n",
              "    border-color: transparent;\n",
              "    border-bottom-color: var(--fill-color);\n",
              "    animation:\n",
              "      spin 1s steps(1) infinite;\n",
              "  }\n",
              "\n",
              "  @keyframes spin {\n",
              "    0% {\n",
              "      border-color: transparent;\n",
              "      border-bottom-color: var(--fill-color);\n",
              "      border-left-color: var(--fill-color);\n",
              "    }\n",
              "    20% {\n",
              "      border-color: transparent;\n",
              "      border-left-color: var(--fill-color);\n",
              "      border-top-color: var(--fill-color);\n",
              "    }\n",
              "    30% {\n",
              "      border-color: transparent;\n",
              "      border-left-color: var(--fill-color);\n",
              "      border-top-color: var(--fill-color);\n",
              "      border-right-color: var(--fill-color);\n",
              "    }\n",
              "    40% {\n",
              "      border-color: transparent;\n",
              "      border-right-color: var(--fill-color);\n",
              "      border-top-color: var(--fill-color);\n",
              "    }\n",
              "    60% {\n",
              "      border-color: transparent;\n",
              "      border-right-color: var(--fill-color);\n",
              "    }\n",
              "    80% {\n",
              "      border-color: transparent;\n",
              "      border-right-color: var(--fill-color);\n",
              "      border-bottom-color: var(--fill-color);\n",
              "    }\n",
              "    90% {\n",
              "      border-color: transparent;\n",
              "      border-bottom-color: var(--fill-color);\n",
              "    }\n",
              "  }\n",
              "</style>\n",
              "\n",
              "  <script>\n",
              "    async function quickchart(key) {\n",
              "      const quickchartButtonEl =\n",
              "        document.querySelector('#' + key + ' button');\n",
              "      quickchartButtonEl.disabled = true;  // To prevent multiple clicks.\n",
              "      quickchartButtonEl.classList.add('colab-df-spinner');\n",
              "      try {\n",
              "        const charts = await google.colab.kernel.invokeFunction(\n",
              "            'suggestCharts', [key], {});\n",
              "      } catch (error) {\n",
              "        console.error('Error during call to suggestCharts:', error);\n",
              "      }\n",
              "      quickchartButtonEl.classList.remove('colab-df-spinner');\n",
              "      quickchartButtonEl.classList.add('colab-df-quickchart-complete');\n",
              "    }\n",
              "    (() => {\n",
              "      let quickchartButtonEl =\n",
              "        document.querySelector('#df-726f7da2-270b-4942-9285-c27c68beaca7 button');\n",
              "      quickchartButtonEl.style.display =\n",
              "        google.colab.kernel.accessAllowed ? 'block' : 'none';\n",
              "    })();\n",
              "  </script>\n",
              "</div>\n",
              "    </div>\n",
              "  </div>\n"
            ],
            "application/vnd.google.colaboratory.intrinsic+json": {
              "type": "dataframe",
              "variable_name": "transposed_summary",
              "summary": "{\n  \"name\": \"transposed_summary\",\n  \"rows\": 13,\n  \"fields\": [\n    {\n      \"column\": 0,\n      \"properties\": {\n        \"dtype\": \"category\",\n        \"num_unique_values\": 2,\n        \"samples\": [\n          \"11123\",\n          \"count\"\n        ],\n        \"semantic_type\": \"\",\n        \"description\": \"\"\n      }\n    },\n    {\n      \"column\": 1,\n      \"properties\": {\n        \"dtype\": \"string\",\n        \"num_unique_values\": 9,\n        \"samples\": [\n          \"17942.848062573048\",\n          \"21310.856963049537\"\n        ],\n        \"semantic_type\": \"\",\n        \"description\": \"\"\n      }\n    },\n    {\n      \"column\": 2,\n      \"properties\": {\n        \"dtype\": \"string\",\n        \"num_unique_values\": 9,\n        \"samples\": [\n          \"112499.15347087449\",\n          \"13094.727252344426\"\n        ],\n        \"semantic_type\": \"\",\n        \"description\": \"\"\n      }\n    },\n    {\n      \"column\": 3,\n      \"properties\": {\n        \"dtype\": \"string\",\n        \"num_unique_values\": 11,\n        \"samples\": [\n          \"000100039X\",\n          \"min\"\n        ],\n        \"semantic_type\": \"\",\n        \"description\": \"\"\n      }\n    },\n    {\n      \"column\": 4,\n      \"properties\": {\n        \"dtype\": \"string\",\n        \"num_unique_values\": 13,\n        \"samples\": [\n          \"9/9/2010\",\n          \"4597666\"\n        ],\n        \"semantic_type\": \"\",\n        \"description\": \"\"\n      }\n    }\n  ]\n}"
            }
          },
          "metadata": {},
          "execution_count": 21
        }
      ]
    },
    {
      "cell_type": "markdown",
      "source": [
        "**Note** that this function should generally be avoided except when working with small dataframes, because it pulls the entire object into memory on a single node"
      ],
      "metadata": {
        "id": "OOIcn_3o0JFQ"
      }
    },
    {
      "cell_type": "code",
      "source": [
        "###Foce to do garbage collection\n",
        "import gc\n",
        "\n",
        "# Delete the DataFrame\n",
        "del transposed_summary\n",
        "\n",
        "# Force garbage collection\n",
        "gc.collect()\n"
      ],
      "metadata": {
        "colab": {
          "base_uri": "https://localhost:8080/"
        },
        "id": "sSBVVxoo0vqJ",
        "outputId": "e192f479-edfe-4c22-8290-8c2c43ee2b23"
      },
      "execution_count": 22,
      "outputs": [
        {
          "output_type": "execute_result",
          "data": {
            "text/plain": [
              "65"
            ]
          },
          "metadata": {},
          "execution_count": 22
        }
      ]
    },
    {
      "cell_type": "markdown",
      "source": [
        "### **Parquet File Format**"
      ],
      "metadata": {
        "id": "o-Bs14rC-5Vk"
      }
    },
    {
      "cell_type": "code",
      "source": [
        "df.write.parquet(\"output.parquet\")"
      ],
      "metadata": {
        "id": "JIyUHVQx0Ics"
      },
      "execution_count": 23,
      "outputs": []
    },
    {
      "cell_type": "code",
      "source": [
        "df_pq = pd.read_parquet(\"output.parquet\")\n",
        "df_pq"
      ],
      "metadata": {
        "colab": {
          "base_uri": "https://localhost:8080/",
          "height": 597
        },
        "id": "OygjPcZi4Eq9",
        "outputId": "508aea7c-fa31-42b0-d187-9baa43f1f07f"
      },
      "execution_count": 24,
      "outputs": [
        {
          "output_type": "execute_result",
          "data": {
            "text/plain": [
              "       bookID                                              title  \\\n",
              "0           1  Harry Potter and the Half-Blood Prince (Harry ...   \n",
              "1           2  Harry Potter and the Order of the Phoenix (Har...   \n",
              "2           4  Harry Potter and the Chamber of Secrets (Harry...   \n",
              "3           5  Harry Potter and the Prisoner of Azkaban (Harr...   \n",
              "4           8  Harry Potter Boxed Set  Books 1-5 (Harry Potte...   \n",
              "...       ...                                                ...   \n",
              "11118   45631   Expelled from Eden: A William T. Vollmann Reader   \n",
              "11119   45633                        You Bright and Risen Angels   \n",
              "11120   45634                    The Ice-Shirt (Seven Dreams #1)   \n",
              "11121   45639                                        Poor People   \n",
              "11122   45641                        Las aventuras de Tom Sawyer   \n",
              "\n",
              "                                                 authors  average_rating  \\\n",
              "0                             J.K. Rowling/Mary GrandPré            4.57   \n",
              "1                             J.K. Rowling/Mary GrandPré            4.49   \n",
              "2                                           J.K. Rowling            4.42   \n",
              "3                             J.K. Rowling/Mary GrandPré            4.56   \n",
              "4                             J.K. Rowling/Mary GrandPré            4.78   \n",
              "...                                                  ...             ...   \n",
              "11118  William T. Vollmann/Larry McCaffery/Michael He...            4.06   \n",
              "11119                                William T. Vollmann            4.08   \n",
              "11120                                William T. Vollmann            3.96   \n",
              "11121                                William T. Vollmann            3.72   \n",
              "11122                                         Mark Twain            3.91   \n",
              "\n",
              "             isbn        isbn13 language_code  num_pages  ratings_count  \\\n",
              "0       439785960  9.780440e+12           eng        652        2095690   \n",
              "1       439358078  9.780440e+12           eng        870        2153167   \n",
              "2       439554896  9.780440e+12           eng        352           6333   \n",
              "3      043965548X  9.780440e+12           eng        435        2339585   \n",
              "4       439682584  9.780440e+12           eng       2690          41428   \n",
              "...           ...           ...           ...        ...            ...   \n",
              "11118  1560254416  9.781560e+12           eng        512            156   \n",
              "11119   140110879  9.780140e+12           eng        635            783   \n",
              "11120   140131965  9.780140e+12           eng        415            820   \n",
              "11121    60878827  9.780060e+12           eng        434            769   \n",
              "11122  8497646983  9.788500e+12           spa        272            113   \n",
              "\n",
              "       text_reviews_count publication_date        publisher  \n",
              "0                   27591        9/16/2006  Scholastic Inc.  \n",
              "1                   29221         9/1/2004  Scholastic Inc.  \n",
              "2                     244        11/1/2003       Scholastic  \n",
              "3                   36325         5/1/2004  Scholastic Inc.  \n",
              "4                     164        9/13/2004       Scholastic  \n",
              "...                   ...              ...              ...  \n",
              "11118                  20       12/21/2004    Da Capo Press  \n",
              "11119                  56        12/1/1988    Penguin Books  \n",
              "11120                  95         8/1/1993    Penguin Books  \n",
              "11121                 139        2/27/2007             Ecco  \n",
              "11122                  12        5/28/2006    Edimat Libros  \n",
              "\n",
              "[11123 rows x 12 columns]"
            ],
            "text/html": [
              "\n",
              "  <div id=\"df-28d37d45-16ef-4a74-87c8-8bd65006cbf9\" class=\"colab-df-container\">\n",
              "    <div>\n",
              "<style scoped>\n",
              "    .dataframe tbody tr th:only-of-type {\n",
              "        vertical-align: middle;\n",
              "    }\n",
              "\n",
              "    .dataframe tbody tr th {\n",
              "        vertical-align: top;\n",
              "    }\n",
              "\n",
              "    .dataframe thead th {\n",
              "        text-align: right;\n",
              "    }\n",
              "</style>\n",
              "<table border=\"1\" class=\"dataframe\">\n",
              "  <thead>\n",
              "    <tr style=\"text-align: right;\">\n",
              "      <th></th>\n",
              "      <th>bookID</th>\n",
              "      <th>title</th>\n",
              "      <th>authors</th>\n",
              "      <th>average_rating</th>\n",
              "      <th>isbn</th>\n",
              "      <th>isbn13</th>\n",
              "      <th>language_code</th>\n",
              "      <th>num_pages</th>\n",
              "      <th>ratings_count</th>\n",
              "      <th>text_reviews_count</th>\n",
              "      <th>publication_date</th>\n",
              "      <th>publisher</th>\n",
              "    </tr>\n",
              "  </thead>\n",
              "  <tbody>\n",
              "    <tr>\n",
              "      <th>0</th>\n",
              "      <td>1</td>\n",
              "      <td>Harry Potter and the Half-Blood Prince (Harry ...</td>\n",
              "      <td>J.K. Rowling/Mary GrandPré</td>\n",
              "      <td>4.57</td>\n",
              "      <td>439785960</td>\n",
              "      <td>9.780440e+12</td>\n",
              "      <td>eng</td>\n",
              "      <td>652</td>\n",
              "      <td>2095690</td>\n",
              "      <td>27591</td>\n",
              "      <td>9/16/2006</td>\n",
              "      <td>Scholastic Inc.</td>\n",
              "    </tr>\n",
              "    <tr>\n",
              "      <th>1</th>\n",
              "      <td>2</td>\n",
              "      <td>Harry Potter and the Order of the Phoenix (Har...</td>\n",
              "      <td>J.K. Rowling/Mary GrandPré</td>\n",
              "      <td>4.49</td>\n",
              "      <td>439358078</td>\n",
              "      <td>9.780440e+12</td>\n",
              "      <td>eng</td>\n",
              "      <td>870</td>\n",
              "      <td>2153167</td>\n",
              "      <td>29221</td>\n",
              "      <td>9/1/2004</td>\n",
              "      <td>Scholastic Inc.</td>\n",
              "    </tr>\n",
              "    <tr>\n",
              "      <th>2</th>\n",
              "      <td>4</td>\n",
              "      <td>Harry Potter and the Chamber of Secrets (Harry...</td>\n",
              "      <td>J.K. Rowling</td>\n",
              "      <td>4.42</td>\n",
              "      <td>439554896</td>\n",
              "      <td>9.780440e+12</td>\n",
              "      <td>eng</td>\n",
              "      <td>352</td>\n",
              "      <td>6333</td>\n",
              "      <td>244</td>\n",
              "      <td>11/1/2003</td>\n",
              "      <td>Scholastic</td>\n",
              "    </tr>\n",
              "    <tr>\n",
              "      <th>3</th>\n",
              "      <td>5</td>\n",
              "      <td>Harry Potter and the Prisoner of Azkaban (Harr...</td>\n",
              "      <td>J.K. Rowling/Mary GrandPré</td>\n",
              "      <td>4.56</td>\n",
              "      <td>043965548X</td>\n",
              "      <td>9.780440e+12</td>\n",
              "      <td>eng</td>\n",
              "      <td>435</td>\n",
              "      <td>2339585</td>\n",
              "      <td>36325</td>\n",
              "      <td>5/1/2004</td>\n",
              "      <td>Scholastic Inc.</td>\n",
              "    </tr>\n",
              "    <tr>\n",
              "      <th>4</th>\n",
              "      <td>8</td>\n",
              "      <td>Harry Potter Boxed Set  Books 1-5 (Harry Potte...</td>\n",
              "      <td>J.K. Rowling/Mary GrandPré</td>\n",
              "      <td>4.78</td>\n",
              "      <td>439682584</td>\n",
              "      <td>9.780440e+12</td>\n",
              "      <td>eng</td>\n",
              "      <td>2690</td>\n",
              "      <td>41428</td>\n",
              "      <td>164</td>\n",
              "      <td>9/13/2004</td>\n",
              "      <td>Scholastic</td>\n",
              "    </tr>\n",
              "    <tr>\n",
              "      <th>...</th>\n",
              "      <td>...</td>\n",
              "      <td>...</td>\n",
              "      <td>...</td>\n",
              "      <td>...</td>\n",
              "      <td>...</td>\n",
              "      <td>...</td>\n",
              "      <td>...</td>\n",
              "      <td>...</td>\n",
              "      <td>...</td>\n",
              "      <td>...</td>\n",
              "      <td>...</td>\n",
              "      <td>...</td>\n",
              "    </tr>\n",
              "    <tr>\n",
              "      <th>11118</th>\n",
              "      <td>45631</td>\n",
              "      <td>Expelled from Eden: A William T. Vollmann Reader</td>\n",
              "      <td>William T. Vollmann/Larry McCaffery/Michael He...</td>\n",
              "      <td>4.06</td>\n",
              "      <td>1560254416</td>\n",
              "      <td>9.781560e+12</td>\n",
              "      <td>eng</td>\n",
              "      <td>512</td>\n",
              "      <td>156</td>\n",
              "      <td>20</td>\n",
              "      <td>12/21/2004</td>\n",
              "      <td>Da Capo Press</td>\n",
              "    </tr>\n",
              "    <tr>\n",
              "      <th>11119</th>\n",
              "      <td>45633</td>\n",
              "      <td>You Bright and Risen Angels</td>\n",
              "      <td>William T. Vollmann</td>\n",
              "      <td>4.08</td>\n",
              "      <td>140110879</td>\n",
              "      <td>9.780140e+12</td>\n",
              "      <td>eng</td>\n",
              "      <td>635</td>\n",
              "      <td>783</td>\n",
              "      <td>56</td>\n",
              "      <td>12/1/1988</td>\n",
              "      <td>Penguin Books</td>\n",
              "    </tr>\n",
              "    <tr>\n",
              "      <th>11120</th>\n",
              "      <td>45634</td>\n",
              "      <td>The Ice-Shirt (Seven Dreams #1)</td>\n",
              "      <td>William T. Vollmann</td>\n",
              "      <td>3.96</td>\n",
              "      <td>140131965</td>\n",
              "      <td>9.780140e+12</td>\n",
              "      <td>eng</td>\n",
              "      <td>415</td>\n",
              "      <td>820</td>\n",
              "      <td>95</td>\n",
              "      <td>8/1/1993</td>\n",
              "      <td>Penguin Books</td>\n",
              "    </tr>\n",
              "    <tr>\n",
              "      <th>11121</th>\n",
              "      <td>45639</td>\n",
              "      <td>Poor People</td>\n",
              "      <td>William T. Vollmann</td>\n",
              "      <td>3.72</td>\n",
              "      <td>60878827</td>\n",
              "      <td>9.780060e+12</td>\n",
              "      <td>eng</td>\n",
              "      <td>434</td>\n",
              "      <td>769</td>\n",
              "      <td>139</td>\n",
              "      <td>2/27/2007</td>\n",
              "      <td>Ecco</td>\n",
              "    </tr>\n",
              "    <tr>\n",
              "      <th>11122</th>\n",
              "      <td>45641</td>\n",
              "      <td>Las aventuras de Tom Sawyer</td>\n",
              "      <td>Mark Twain</td>\n",
              "      <td>3.91</td>\n",
              "      <td>8497646983</td>\n",
              "      <td>9.788500e+12</td>\n",
              "      <td>spa</td>\n",
              "      <td>272</td>\n",
              "      <td>113</td>\n",
              "      <td>12</td>\n",
              "      <td>5/28/2006</td>\n",
              "      <td>Edimat Libros</td>\n",
              "    </tr>\n",
              "  </tbody>\n",
              "</table>\n",
              "<p>11123 rows × 12 columns</p>\n",
              "</div>\n",
              "    <div class=\"colab-df-buttons\">\n",
              "\n",
              "  <div class=\"colab-df-container\">\n",
              "    <button class=\"colab-df-convert\" onclick=\"convertToInteractive('df-28d37d45-16ef-4a74-87c8-8bd65006cbf9')\"\n",
              "            title=\"Convert this dataframe to an interactive table.\"\n",
              "            style=\"display:none;\">\n",
              "\n",
              "  <svg xmlns=\"http://www.w3.org/2000/svg\" height=\"24px\" viewBox=\"0 -960 960 960\">\n",
              "    <path d=\"M120-120v-720h720v720H120Zm60-500h600v-160H180v160Zm220 220h160v-160H400v160Zm0 220h160v-160H400v160ZM180-400h160v-160H180v160Zm440 0h160v-160H620v160ZM180-180h160v-160H180v160Zm440 0h160v-160H620v160Z\"/>\n",
              "  </svg>\n",
              "    </button>\n",
              "\n",
              "  <style>\n",
              "    .colab-df-container {\n",
              "      display:flex;\n",
              "      gap: 12px;\n",
              "    }\n",
              "\n",
              "    .colab-df-convert {\n",
              "      background-color: #E8F0FE;\n",
              "      border: none;\n",
              "      border-radius: 50%;\n",
              "      cursor: pointer;\n",
              "      display: none;\n",
              "      fill: #1967D2;\n",
              "      height: 32px;\n",
              "      padding: 0 0 0 0;\n",
              "      width: 32px;\n",
              "    }\n",
              "\n",
              "    .colab-df-convert:hover {\n",
              "      background-color: #E2EBFA;\n",
              "      box-shadow: 0px 1px 2px rgba(60, 64, 67, 0.3), 0px 1px 3px 1px rgba(60, 64, 67, 0.15);\n",
              "      fill: #174EA6;\n",
              "    }\n",
              "\n",
              "    .colab-df-buttons div {\n",
              "      margin-bottom: 4px;\n",
              "    }\n",
              "\n",
              "    [theme=dark] .colab-df-convert {\n",
              "      background-color: #3B4455;\n",
              "      fill: #D2E3FC;\n",
              "    }\n",
              "\n",
              "    [theme=dark] .colab-df-convert:hover {\n",
              "      background-color: #434B5C;\n",
              "      box-shadow: 0px 1px 3px 1px rgba(0, 0, 0, 0.15);\n",
              "      filter: drop-shadow(0px 1px 2px rgba(0, 0, 0, 0.3));\n",
              "      fill: #FFFFFF;\n",
              "    }\n",
              "  </style>\n",
              "\n",
              "    <script>\n",
              "      const buttonEl =\n",
              "        document.querySelector('#df-28d37d45-16ef-4a74-87c8-8bd65006cbf9 button.colab-df-convert');\n",
              "      buttonEl.style.display =\n",
              "        google.colab.kernel.accessAllowed ? 'block' : 'none';\n",
              "\n",
              "      async function convertToInteractive(key) {\n",
              "        const element = document.querySelector('#df-28d37d45-16ef-4a74-87c8-8bd65006cbf9');\n",
              "        const dataTable =\n",
              "          await google.colab.kernel.invokeFunction('convertToInteractive',\n",
              "                                                    [key], {});\n",
              "        if (!dataTable) return;\n",
              "\n",
              "        const docLinkHtml = 'Like what you see? Visit the ' +\n",
              "          '<a target=\"_blank\" href=https://colab.research.google.com/notebooks/data_table.ipynb>data table notebook</a>'\n",
              "          + ' to learn more about interactive tables.';\n",
              "        element.innerHTML = '';\n",
              "        dataTable['output_type'] = 'display_data';\n",
              "        await google.colab.output.renderOutput(dataTable, element);\n",
              "        const docLink = document.createElement('div');\n",
              "        docLink.innerHTML = docLinkHtml;\n",
              "        element.appendChild(docLink);\n",
              "      }\n",
              "    </script>\n",
              "  </div>\n",
              "\n",
              "\n",
              "<div id=\"df-7b5af2cf-bb48-4c9e-957c-2f3624cd8acc\">\n",
              "  <button class=\"colab-df-quickchart\" onclick=\"quickchart('df-7b5af2cf-bb48-4c9e-957c-2f3624cd8acc')\"\n",
              "            title=\"Suggest charts\"\n",
              "            style=\"display:none;\">\n",
              "\n",
              "<svg xmlns=\"http://www.w3.org/2000/svg\" height=\"24px\"viewBox=\"0 0 24 24\"\n",
              "     width=\"24px\">\n",
              "    <g>\n",
              "        <path d=\"M19 3H5c-1.1 0-2 .9-2 2v14c0 1.1.9 2 2 2h14c1.1 0 2-.9 2-2V5c0-1.1-.9-2-2-2zM9 17H7v-7h2v7zm4 0h-2V7h2v10zm4 0h-2v-4h2v4z\"/>\n",
              "    </g>\n",
              "</svg>\n",
              "  </button>\n",
              "\n",
              "<style>\n",
              "  .colab-df-quickchart {\n",
              "      --bg-color: #E8F0FE;\n",
              "      --fill-color: #1967D2;\n",
              "      --hover-bg-color: #E2EBFA;\n",
              "      --hover-fill-color: #174EA6;\n",
              "      --disabled-fill-color: #AAA;\n",
              "      --disabled-bg-color: #DDD;\n",
              "  }\n",
              "\n",
              "  [theme=dark] .colab-df-quickchart {\n",
              "      --bg-color: #3B4455;\n",
              "      --fill-color: #D2E3FC;\n",
              "      --hover-bg-color: #434B5C;\n",
              "      --hover-fill-color: #FFFFFF;\n",
              "      --disabled-bg-color: #3B4455;\n",
              "      --disabled-fill-color: #666;\n",
              "  }\n",
              "\n",
              "  .colab-df-quickchart {\n",
              "    background-color: var(--bg-color);\n",
              "    border: none;\n",
              "    border-radius: 50%;\n",
              "    cursor: pointer;\n",
              "    display: none;\n",
              "    fill: var(--fill-color);\n",
              "    height: 32px;\n",
              "    padding: 0;\n",
              "    width: 32px;\n",
              "  }\n",
              "\n",
              "  .colab-df-quickchart:hover {\n",
              "    background-color: var(--hover-bg-color);\n",
              "    box-shadow: 0 1px 2px rgba(60, 64, 67, 0.3), 0 1px 3px 1px rgba(60, 64, 67, 0.15);\n",
              "    fill: var(--button-hover-fill-color);\n",
              "  }\n",
              "\n",
              "  .colab-df-quickchart-complete:disabled,\n",
              "  .colab-df-quickchart-complete:disabled:hover {\n",
              "    background-color: var(--disabled-bg-color);\n",
              "    fill: var(--disabled-fill-color);\n",
              "    box-shadow: none;\n",
              "  }\n",
              "\n",
              "  .colab-df-spinner {\n",
              "    border: 2px solid var(--fill-color);\n",
              "    border-color: transparent;\n",
              "    border-bottom-color: var(--fill-color);\n",
              "    animation:\n",
              "      spin 1s steps(1) infinite;\n",
              "  }\n",
              "\n",
              "  @keyframes spin {\n",
              "    0% {\n",
              "      border-color: transparent;\n",
              "      border-bottom-color: var(--fill-color);\n",
              "      border-left-color: var(--fill-color);\n",
              "    }\n",
              "    20% {\n",
              "      border-color: transparent;\n",
              "      border-left-color: var(--fill-color);\n",
              "      border-top-color: var(--fill-color);\n",
              "    }\n",
              "    30% {\n",
              "      border-color: transparent;\n",
              "      border-left-color: var(--fill-color);\n",
              "      border-top-color: var(--fill-color);\n",
              "      border-right-color: var(--fill-color);\n",
              "    }\n",
              "    40% {\n",
              "      border-color: transparent;\n",
              "      border-right-color: var(--fill-color);\n",
              "      border-top-color: var(--fill-color);\n",
              "    }\n",
              "    60% {\n",
              "      border-color: transparent;\n",
              "      border-right-color: var(--fill-color);\n",
              "    }\n",
              "    80% {\n",
              "      border-color: transparent;\n",
              "      border-right-color: var(--fill-color);\n",
              "      border-bottom-color: var(--fill-color);\n",
              "    }\n",
              "    90% {\n",
              "      border-color: transparent;\n",
              "      border-bottom-color: var(--fill-color);\n",
              "    }\n",
              "  }\n",
              "</style>\n",
              "\n",
              "  <script>\n",
              "    async function quickchart(key) {\n",
              "      const quickchartButtonEl =\n",
              "        document.querySelector('#' + key + ' button');\n",
              "      quickchartButtonEl.disabled = true;  // To prevent multiple clicks.\n",
              "      quickchartButtonEl.classList.add('colab-df-spinner');\n",
              "      try {\n",
              "        const charts = await google.colab.kernel.invokeFunction(\n",
              "            'suggestCharts', [key], {});\n",
              "      } catch (error) {\n",
              "        console.error('Error during call to suggestCharts:', error);\n",
              "      }\n",
              "      quickchartButtonEl.classList.remove('colab-df-spinner');\n",
              "      quickchartButtonEl.classList.add('colab-df-quickchart-complete');\n",
              "    }\n",
              "    (() => {\n",
              "      let quickchartButtonEl =\n",
              "        document.querySelector('#df-7b5af2cf-bb48-4c9e-957c-2f3624cd8acc button');\n",
              "      quickchartButtonEl.style.display =\n",
              "        google.colab.kernel.accessAllowed ? 'block' : 'none';\n",
              "    })();\n",
              "  </script>\n",
              "</div>\n",
              "    </div>\n",
              "  </div>\n"
            ],
            "application/vnd.google.colaboratory.intrinsic+json": {
              "type": "dataframe",
              "variable_name": "df_pq",
              "summary": "{\n  \"name\": \"df_pq\",\n  \"rows\": 11123,\n  \"fields\": [\n    {\n      \"column\": \"bookID\",\n      \"properties\": {\n        \"dtype\": \"int32\",\n        \"num_unique_values\": 11123,\n        \"samples\": [\n          33439,\n          1537,\n          32330\n        ],\n        \"semantic_type\": \"\",\n        \"description\": \"\"\n      }\n    },\n    {\n      \"column\": \"title\",\n      \"properties\": {\n        \"dtype\": \"string\",\n        \"num_unique_values\": 10348,\n        \"samples\": [\n          \"Street of the Five Moons (Vicky Bliss  #2)\",\n          \"The Gunslinger (The Dark Tower #1)\",\n          \"The Totem\"\n        ],\n        \"semantic_type\": \"\",\n        \"description\": \"\"\n      }\n    },\n    {\n      \"column\": \"authors\",\n      \"properties\": {\n        \"dtype\": \"string\",\n        \"num_unique_values\": 6639,\n        \"samples\": [\n          \"Jamie Oliver/Marion Deuchars/David Loftus/Chris Terry\",\n          \"John Patrick Diggins/Arthur M. Schlesinger Jr.\",\n          \"George Gamow/Roger Penrose\"\n        ],\n        \"semantic_type\": \"\",\n        \"description\": \"\"\n      }\n    },\n    {\n      \"column\": \"average_rating\",\n      \"properties\": {\n        \"dtype\": \"number\",\n        \"std\": 0.3504853116512785,\n        \"min\": 0.0,\n        \"max\": 5.0,\n        \"num_unique_values\": 209,\n        \"samples\": [\n          4.06,\n          3.18,\n          3.96\n        ],\n        \"semantic_type\": \"\",\n        \"description\": \"\"\n      }\n    },\n    {\n      \"column\": \"isbn\",\n      \"properties\": {\n        \"dtype\": \"string\",\n        \"num_unique_values\": 11123,\n        \"samples\": [\n          \"1575667215\",\n          \"452011671\",\n          \"345492781\"\n        ],\n        \"semantic_type\": \"\",\n        \"description\": \"\"\n      }\n    },\n    {\n      \"column\": \"isbn13\",\n      \"properties\": {\n        \"dtype\": \"number\",\n        \"std\": 442975848869.10736,\n        \"min\": 8987059752.0,\n        \"max\": 9790010000000.0,\n        \"num_unique_values\": 239,\n        \"samples\": [\n          9780680000000.0,\n          9780770000000.0,\n          9780700000000.0\n        ],\n        \"semantic_type\": \"\",\n        \"description\": \"\"\n      }\n    },\n    {\n      \"column\": \"language_code\",\n      \"properties\": {\n        \"dtype\": \"category\",\n        \"num_unique_values\": 27,\n        \"samples\": [\n          \"en-CA\",\n          \"zho\",\n          \"ger\"\n        ],\n        \"semantic_type\": \"\",\n        \"description\": \"\"\n      }\n    },\n    {\n      \"column\": \"num_pages\",\n      \"properties\": {\n        \"dtype\": \"int32\",\n        \"num_unique_values\": 997,\n        \"samples\": [\n          268,\n          795,\n          4\n        ],\n        \"semantic_type\": \"\",\n        \"description\": \"\"\n      }\n    },\n    {\n      \"column\": \"ratings_count\",\n      \"properties\": {\n        \"dtype\": \"int32\",\n        \"num_unique_values\": 5294,\n        \"samples\": [\n          2883,\n          40629,\n          3760\n        ],\n        \"semantic_type\": \"\",\n        \"description\": \"\"\n      }\n    },\n    {\n      \"column\": \"text_reviews_count\",\n      \"properties\": {\n        \"dtype\": \"int32\",\n        \"num_unique_values\": 1822,\n        \"samples\": [\n          1607,\n          17547,\n          99\n        ],\n        \"semantic_type\": \"\",\n        \"description\": \"\"\n      }\n    },\n    {\n      \"column\": \"publication_date\",\n      \"properties\": {\n        \"dtype\": \"category\",\n        \"num_unique_values\": 3679,\n        \"samples\": [\n          \"8/30/1999\",\n          \"9/6/1997\",\n          \"4/24/1998\"\n        ],\n        \"semantic_type\": \"\",\n        \"description\": \"\"\n      }\n    },\n    {\n      \"column\": \"publisher\",\n      \"properties\": {\n        \"dtype\": \"category\",\n        \"num_unique_values\": 2290,\n        \"samples\": [\n          \"Possibilities\",\n          \"Soft Skull Press\",\n          \"Pocket Books: Gallery Books\"\n        ],\n        \"semantic_type\": \"\",\n        \"description\": \"\"\n      }\n    }\n  ]\n}"
            }
          },
          "metadata": {},
          "execution_count": 24
        }
      ]
    },
    {
      "cell_type": "markdown",
      "source": [
        "Parquet files, being columnar storage"
      ],
      "metadata": {
        "id": "UFKLFucO4ZJl"
      }
    },
    {
      "cell_type": "code",
      "source": [
        "# Display the schema of the DataFrame\n",
        "print(\"Schema:\")\n",
        "print(df_pq.dtypes)\n",
        "\n",
        "# Display the first few rows of the DataFrame\n",
        "print(\"\\nFirst few rows:\")\n",
        "print(df_pq.head())\n",
        "\n",
        "# Summary statistics\n",
        "print(\"\\nSummary statistics:\")\n",
        "print(df_pq.describe())"
      ],
      "metadata": {
        "colab": {
          "base_uri": "https://localhost:8080/"
        },
        "id": "fPzHMD1N4hhq",
        "outputId": "a929ec21-a7eb-4d0f-9cb0-958811ffc16c"
      },
      "execution_count": 25,
      "outputs": [
        {
          "output_type": "stream",
          "name": "stdout",
          "text": [
            "Schema:\n",
            "bookID                  int32\n",
            "title                  object\n",
            "authors                object\n",
            "average_rating        float64\n",
            "isbn                   object\n",
            "isbn13                float64\n",
            "language_code          object\n",
            "num_pages               int32\n",
            "ratings_count           int32\n",
            "text_reviews_count      int32\n",
            "publication_date       object\n",
            "publisher              object\n",
            "dtype: object\n",
            "\n",
            "First few rows:\n",
            "   bookID                                              title  \\\n",
            "0       1  Harry Potter and the Half-Blood Prince (Harry ...   \n",
            "1       2  Harry Potter and the Order of the Phoenix (Har...   \n",
            "2       4  Harry Potter and the Chamber of Secrets (Harry...   \n",
            "3       5  Harry Potter and the Prisoner of Azkaban (Harr...   \n",
            "4       8  Harry Potter Boxed Set  Books 1-5 (Harry Potte...   \n",
            "\n",
            "                      authors  average_rating        isbn        isbn13  \\\n",
            "0  J.K. Rowling/Mary GrandPré            4.57   439785960  9.780440e+12   \n",
            "1  J.K. Rowling/Mary GrandPré            4.49   439358078  9.780440e+12   \n",
            "2                J.K. Rowling            4.42   439554896  9.780440e+12   \n",
            "3  J.K. Rowling/Mary GrandPré            4.56  043965548X  9.780440e+12   \n",
            "4  J.K. Rowling/Mary GrandPré            4.78   439682584  9.780440e+12   \n",
            "\n",
            "  language_code  num_pages  ratings_count  text_reviews_count  \\\n",
            "0           eng        652        2095690               27591   \n",
            "1           eng        870        2153167               29221   \n",
            "2           eng        352           6333                 244   \n",
            "3           eng        435        2339585               36325   \n",
            "4           eng       2690          41428                 164   \n",
            "\n",
            "  publication_date        publisher  \n",
            "0        9/16/2006  Scholastic Inc.  \n",
            "1         9/1/2004  Scholastic Inc.  \n",
            "2        11/1/2003       Scholastic  \n",
            "3         5/1/2004  Scholastic Inc.  \n",
            "4        9/13/2004       Scholastic  \n",
            "\n",
            "Summary statistics:\n",
            "             bookID  average_rating        isbn13     num_pages  \\\n",
            "count  11123.000000    11123.000000  1.112300e+04  11123.000000   \n",
            "mean   21310.856963        3.934075  9.759880e+12    336.405556   \n",
            "std    13094.727252        0.350485  4.429758e+11    241.152626   \n",
            "min        1.000000        0.000000  8.987060e+09      0.000000   \n",
            "25%    10277.500000        3.770000  9.780350e+12    192.000000   \n",
            "50%    20287.000000        3.960000  9.780580e+12    299.000000   \n",
            "75%    32104.500000        4.140000  9.780870e+12    416.000000   \n",
            "max    45641.000000        5.000000  9.790010e+12   6576.000000   \n",
            "\n",
            "       ratings_count  text_reviews_count  \n",
            "count   1.112300e+04        11123.000000  \n",
            "mean    1.794285e+04          542.048099  \n",
            "std     1.124992e+05         2576.619589  \n",
            "min     0.000000e+00            0.000000  \n",
            "25%     1.040000e+02            9.000000  \n",
            "50%     7.450000e+02           47.000000  \n",
            "75%     5.000500e+03          238.000000  \n",
            "max     4.597666e+06        94265.000000  \n"
          ]
        }
      ]
    },
    {
      "cell_type": "markdown",
      "source": [
        "### Catalyst Optimizer:\n",
        "* Column Pruning"
      ],
      "metadata": {
        "id": "MBDaoKT3r1zE"
      }
    },
    {
      "cell_type": "code",
      "source": [
        "df.select(\"publication_date\",'title').orderBy(col(\"publication_date\"), ascending = False).show(5)"
      ],
      "metadata": {
        "colab": {
          "base_uri": "https://localhost:8080/"
        },
        "id": "j13wdKxrrLae",
        "outputId": "b6256c03-482b-4161-a90c-dd0243ccab9f"
      },
      "execution_count": 26,
      "outputs": [
        {
          "output_type": "stream",
          "name": "stdout",
          "text": [
            "+----------------+--------------------+\n",
            "|publication_date|               title|\n",
            "+----------------+--------------------+\n",
            "|        9/9/2010|The Postman Alway...|\n",
            "|        9/9/2009|The Empty Envelop...|\n",
            "|        9/9/2008|The Tale of Despe...|\n",
            "|        9/9/2004|Triss (Redwall  #15)|\n",
            "|        9/9/2004|The Hip Chick's G...|\n",
            "+----------------+--------------------+\n",
            "only showing top 5 rows\n",
            "\n"
          ]
        }
      ]
    },
    {
      "cell_type": "markdown",
      "source": [
        "### Using Parquet File\n",
        "\n",
        "A Parquet file is a columnar storage file format that is widely used in the Big Data ecosystem, especially with distributed data processing frameworks like Apache Hadoop, Apache Spark, and Apache Hive. It's designed to efficiently store and process large amounts of data, providing benefits such as:\n",
        "\n",
        "Columnar Storage: Parquet stores data in a columnar format, where values from the same column are stored together. This allows for better compression and encoding techniques, as well as improved performance for columnar operations such as aggregations and filtering.\n",
        "\n",
        "Compression: Parquet files support various compression codecs such as Snappy, Gzip, and LZO, which can significantly reduce storage requirements and improve query performance.\n",
        "\n",
        "Schema Evolution: Parquet files include metadata that defines the schema of the data stored within them. This metadata allows for schema evolution, meaning that changes to the schema can be accommodated without needing to rewrite the entire dataset.\n",
        "\n",
        "Cross-Platform Compatibility: Parquet files are designed to be compatible with different computing platforms and programming languages. They can be read and written by various tools and libraries across different environments.\n",
        "\n",
        "Splittable: Parquet files are splittable, meaning that they can be divided into smaller chunks called \"splits\" or \"blocks.\" This makes Parquet files suitable for parallel processing in distributed computing frameworks.\n",
        "\n",
        "Support for Nested Data: Parquet supports nested data structures, allowing for the storage of complex data types like arrays and structs."
      ],
      "metadata": {
        "id": "CNORzW1s5drR"
      }
    },
    {
      "cell_type": "code",
      "source": [
        "df_pq = spark.read.parquet(\"output.parquet\")\n",
        "df_pq.select(\"publication_date\",'title').orderBy(col(\"publication_date\"), ascending = False).show(5)"
      ],
      "metadata": {
        "colab": {
          "base_uri": "https://localhost:8080/"
        },
        "id": "yDp_5ldA5WJS",
        "outputId": "9b9f5ea7-a3b1-480e-aca9-7b04e08cde55"
      },
      "execution_count": 27,
      "outputs": [
        {
          "output_type": "stream",
          "name": "stdout",
          "text": [
            "+----------------+--------------------+\n",
            "|publication_date|               title|\n",
            "+----------------+--------------------+\n",
            "|        9/9/2010|The Postman Alway...|\n",
            "|        9/9/2009|The Empty Envelop...|\n",
            "|        9/9/2008|The Tale of Despe...|\n",
            "|        9/9/2004|Triss (Redwall  #15)|\n",
            "|        9/9/2004|The Hip Chick's G...|\n",
            "+----------------+--------------------+\n",
            "only showing top 5 rows\n",
            "\n"
          ]
        }
      ]
    },
    {
      "cell_type": "markdown",
      "source": [
        "### <font color = '#b246a8'>Evaluate below approach: Dictionary vs Dataframe</font>"
      ],
      "metadata": {
        "id": "6x6HzwOM9hKU"
      }
    },
    {
      "cell_type": "code",
      "source": [
        "## Approach 1:\n",
        "\n",
        "# Initialize SparkSession\n",
        "spark = SparkSession.builder \\\n",
        "    .appName(\"Explore Parquet\") \\\n",
        "    .getOrCreate()\n",
        "# Read Parquet file into a DataFrame\n",
        "df_pq = spark.read.parquet(\"output.parquet\")\n",
        "\n",
        "# Convert DataFrame to dictionary\n",
        "data_dict = {}\n",
        "\n",
        "# Extract column names\n",
        "columns = df_pq.columns\n",
        "\n",
        "# Iterate over each column\n",
        "for column in columns:\n",
        "    # Extract values for the column\n",
        "    values = df_pq.select(column).rdd.flatMap(lambda x: x).collect()\n",
        "    # Store column values in the dictionary\n",
        "    data_dict[column] = values\n",
        "\n",
        "# Display the dictionary (for demonstration purposes)\n",
        "for column, values in data_dict.items():\n",
        "    print(f\"{column}: {values[:5]}\")\n",
        "\n",
        "# Stop SparkSession\n",
        "spark.stop()\n",
        "\n",
        "\n"
      ],
      "metadata": {
        "colab": {
          "base_uri": "https://localhost:8080/"
        },
        "id": "dqXImemO7T01",
        "outputId": "bec6167a-44d7-49f6-f26b-af092e6459eb"
      },
      "execution_count": 28,
      "outputs": [
        {
          "output_type": "stream",
          "name": "stdout",
          "text": [
            "bookID: [1, 2, 4, 5, 8]\n",
            "title: ['Harry Potter and the Half-Blood Prince (Harry Potter  #6)', 'Harry Potter and the Order of the Phoenix (Harry Potter  #5)', 'Harry Potter and the Chamber of Secrets (Harry Potter  #2)', 'Harry Potter and the Prisoner of Azkaban (Harry Potter  #3)', 'Harry Potter Boxed Set  Books 1-5 (Harry Potter  #1-5)']\n",
            "authors: ['J.K. Rowling/Mary GrandPré', 'J.K. Rowling/Mary GrandPré', 'J.K. Rowling', 'J.K. Rowling/Mary GrandPré', 'J.K. Rowling/Mary GrandPré']\n",
            "average_rating: [4.57, 4.49, 4.42, 4.56, 4.78]\n",
            "isbn: ['439785960', '439358078', '439554896', '043965548X', '439682584']\n",
            "isbn13: [9780440000000.0, 9780440000000.0, 9780440000000.0, 9780440000000.0, 9780440000000.0]\n",
            "language_code: ['eng', 'eng', 'eng', 'eng', 'eng']\n",
            "num_pages: [652, 870, 352, 435, 2690]\n",
            "ratings_count: [2095690, 2153167, 6333, 2339585, 41428]\n",
            "text_reviews_count: [27591, 29221, 244, 36325, 164]\n",
            "publication_date: ['9/16/2006', '9/1/2004', '11/1/2003', '5/1/2004', '9/13/2004']\n",
            "publisher: ['Scholastic Inc.', 'Scholastic Inc.', 'Scholastic', 'Scholastic Inc.', 'Scholastic']\n"
          ]
        }
      ]
    },
    {
      "cell_type": "code",
      "source": [
        "## Approach 2:\n",
        "# Initialize SparkSession\n",
        "spark = SparkSession.builder \\\n",
        "    .appName(\"Explore Parquet\") \\\n",
        "    .getOrCreate()\n",
        "\n",
        "\n",
        "# Read Parquet file into a DataFrame\n",
        "df_pq = spark.read.parquet(\"output.parquet\")\n",
        "\n",
        "# Display the first few rows of the DataFrame\n",
        "df_pq.show(5)\n",
        "\n",
        "# Stop SparkSession\n",
        "spark.stop()"
      ],
      "metadata": {
        "colab": {
          "base_uri": "https://localhost:8080/"
        },
        "id": "0rnWFxY58O_o",
        "outputId": "ec22e2f5-4297-4b9b-bfeb-ce813f473592"
      },
      "execution_count": 29,
      "outputs": [
        {
          "output_type": "stream",
          "name": "stdout",
          "text": [
            "+------+--------------------+--------------------+--------------+----------+----------+-------------+---------+-------------+------------------+----------------+---------------+\n",
            "|bookID|               title|             authors|average_rating|      isbn|    isbn13|language_code|num_pages|ratings_count|text_reviews_count|publication_date|      publisher|\n",
            "+------+--------------------+--------------------+--------------+----------+----------+-------------+---------+-------------+------------------+----------------+---------------+\n",
            "|     1|Harry Potter and ...|J.K. Rowling/Mary...|          4.57| 439785960|9.78044E12|          eng|      652|      2095690|             27591|       9/16/2006|Scholastic Inc.|\n",
            "|     2|Harry Potter and ...|J.K. Rowling/Mary...|          4.49| 439358078|9.78044E12|          eng|      870|      2153167|             29221|        9/1/2004|Scholastic Inc.|\n",
            "|     4|Harry Potter and ...|        J.K. Rowling|          4.42| 439554896|9.78044E12|          eng|      352|         6333|               244|       11/1/2003|     Scholastic|\n",
            "|     5|Harry Potter and ...|J.K. Rowling/Mary...|          4.56|043965548X|9.78044E12|          eng|      435|      2339585|             36325|        5/1/2004|Scholastic Inc.|\n",
            "|     8|Harry Potter Boxe...|J.K. Rowling/Mary...|          4.78| 439682584|9.78044E12|          eng|     2690|        41428|               164|       9/13/2004|     Scholastic|\n",
            "+------+--------------------+--------------------+--------------+----------+----------+-------------+---------+-------------+------------------+----------------+---------------+\n",
            "only showing top 5 rows\n",
            "\n"
          ]
        }
      ]
    },
    {
      "cell_type": "markdown",
      "source": [
        "### Cons for libraries:\n",
        "\n",
        "* Lack of Structure: Dictionaries do not inherently enforce a structured representation of data with predefined column names, which can make it harder to perform structured data operations.\n",
        "* Performance Limitations: Dictionaries may not be as optimized for certain types of operations as DataFrame structures, especially for large-scale data processing tasks or when working with distributed computing frameworks.\n",
        "\n",
        "### Overall Considerations:\n",
        "\n",
        "* Data Size: For small to medium-sized datasets, either approach may be suitable. For very large datasets, DataFrames with distributed computing capabilities may offer better performance.\n",
        "* Data Complexity: If your data has a simple tabular structure, DataFrames may be a more natural choice. For complex or nested data structures, dictionaries may be more flexible.\n",
        "* Tooling and Ecosystem: Consider the tools and libraries you are using in your data pipeline. If you are working with PySpark or other distributed computing frameworks, DataFrames may be a better fit due to their tight integration."
      ],
      "metadata": {
        "id": "EXKqPyDN97Bd"
      }
    },
    {
      "cell_type": "markdown",
      "metadata": {
        "id": "iczafy1_v8Oc"
      },
      "source": [
        "# Using SQL to interface with Spark\n",
        "\n",
        "* The temporary view is available within the Spark Session and will be automatically dropped when the session ends.\n",
        "* It allows to write SQL queries directly against your DataFrame.\n",
        "* It can leverage SQL to interact with these components, enabling a unified and familiar interface for data processing."
      ]
    },
    {
      "cell_type": "markdown",
      "metadata": {
        "id": "RbzMv5O4ax7V"
      },
      "source": [
        "**Step 1**: Register the DataFrame as a SQL temporary view so that you can interact with it using SQL commands\n"
      ]
    },
    {
      "cell_type": "code",
      "metadata": {
        "id": "FLkw3KCva_9W"
      },
      "source": [
        "df.createOrReplaceTempView(\"books\")"
      ],
      "execution_count": 30,
      "outputs": []
    },
    {
      "cell_type": "markdown",
      "metadata": {
        "id": "dYz7APKsbaIg"
      },
      "source": [
        "**Step 2**: Query the temporary view using SQL"
      ]
    },
    {
      "cell_type": "code",
      "metadata": {
        "id": "25lD-IVrb5AU"
      },
      "source": [
        "# Initialize SparkSession\n",
        "spark = SparkSession.builder \\\n",
        "    .appName(\"Explore Parquet\") \\\n",
        "    .getOrCreate()\n",
        "\n",
        "# Read Parquet file into a DataFrame\n",
        "df = spark.read.parquet(\"output.parquet\")\n",
        "\n",
        "# Create a temporary view from the DataFrame\n",
        "df.createOrReplaceTempView(\"books\")\n",
        "\n",
        "# Execute SQL query to select all columns from the \"books\" view\n",
        "sqlDF = spark.sql(\"SELECT * FROM books\")\n"
      ],
      "execution_count": 31,
      "outputs": []
    },
    {
      "cell_type": "markdown",
      "metadata": {
        "id": "kAsFxcBQc_E9"
      },
      "source": [
        "**Step 3**: Filter the data so that only records where the average rating is greater than 4.5<br>\n",
        "\n",
        "Catalyst optimizer:\n",
        "* if you have a filter condition in your query, the optimizer will try to apply this condition while reading the data, so only the necessary rows are fetched.\n"
      ]
    },
    {
      "cell_type": "code",
      "metadata": {
        "id": "6zIenJkgibCr",
        "colab": {
          "base_uri": "https://localhost:8080/"
        },
        "outputId": "a6b29669-8e5c-408f-8ca1-a34c4bfb87f6"
      },
      "source": [
        "sqlDF.filter(\"average_rating > 4.5\").show()\n",
        "\n",
        "#In this case, Spark tries to push the filter condition (average_rating > 4.5) down to the file reader, reducing the amount of data read into memory."
      ],
      "execution_count": 32,
      "outputs": [
        {
          "output_type": "stream",
          "name": "stdout",
          "text": [
            "+------+--------------------+--------------------+--------------+----------+----------+-------------+---------+-------------+------------------+----------------+--------------------+\n",
            "|bookID|               title|             authors|average_rating|      isbn|    isbn13|language_code|num_pages|ratings_count|text_reviews_count|publication_date|           publisher|\n",
            "+------+--------------------+--------------------+--------------+----------+----------+-------------+---------+-------------+------------------+----------------+--------------------+\n",
            "|     1|Harry Potter and ...|J.K. Rowling/Mary...|          4.57| 439785960|9.78044E12|          eng|      652|      2095690|             27591|       9/16/2006|     Scholastic Inc.|\n",
            "|     5|Harry Potter and ...|J.K. Rowling/Mary...|          4.56|043965548X|9.78044E12|          eng|      435|      2339585|             36325|        5/1/2004|     Scholastic Inc.|\n",
            "|     8|Harry Potter Boxe...|J.K. Rowling/Mary...|          4.78| 439682584|9.78044E12|          eng|     2690|        41428|               164|       9/13/2004|          Scholastic|\n",
            "|    10|Harry Potter Coll...|        J.K. Rowling|          4.73| 439827604|9.78044E12|          eng|     3342|        28242|               808|       9/12/2005|          Scholastic|\n",
            "|    30|J.R.R. Tolkien 4-...|      J.R.R. Tolkien|          4.59| 345538374|9.78035E12|          eng|     1728|       101233|              1550|       9/25/2012|    Ballantine Books|\n",
            "|    36|The Lord of the R...|Chris   Smith/Chr...|          4.53| 618391002|9.78062E12|          eng|      218|        19822|                46|       11/5/2003|Houghton Mifflin ...|\n",
            "|   119|The Lord of the R...|        Gary Russell|          4.59| 618212906|9.78062E12|          eng|      192|        26153|               102|       6/12/2002|Houghton Mifflin ...|\n",
            "|   313|100 Years of Lync...|      Ralph Ginzburg|          4.61| 933121180|9.78093E12|          eng|      270|           88|                 4|      11/22/1996| Black Classic Press|\n",
            "|   397|The Gettysburg Ad...|Abraham Lincoln/M...|          4.53| 395883970| 9.7804E12|          eng|       32|         5239|                76|        2/2/1998|HMH Books for You...|\n",
            "|   866|Fullmetal Alchemi...|Hiromu Arakawa/Ak...|          4.57|142150460X|9.78142E12|          eng|      192|         9013|               153|       9/19/2006|       VIZ Media LLC|\n",
            "|   868|Fullmetal Alchemi...|Hiromu Arakawa/Ak...|          4.56|1591169259|9.78159E12|          eng|      192|        16666|               299|       9/13/2005|       VIZ Media LLC|\n",
            "|   869|Fullmetal Alchemi...|Hiromu Arakawa/Ak...|          4.57|1421504596|9.78142E12|          eng|      192|        11451|               161|       7/18/2006|       VIZ Media LLC|\n",
            "|   871|Fullmetal Alchemi...|Hiromu Arakawa/Ak...|          4.55|1591169291|9.78159E12|          eng|      200|        10752|               294|       11/8/2005|       VIZ Media LLC|\n",
            "|   873|Fullmetal Alchemi...|Hiromu Arakawa/Ak...|          4.52|1591169232|9.78159E12|          eng|      192|        14923|               419|        7/5/2005|       VIZ Media LLC|\n",
            "|   955|The 5 Love Langua...|        Gary Chapman|           4.7| 802415318| 9.7808E12|          eng|        0|           22|                 4|        1/1/2005|    Moody Publishers|\n",
            "|  1111|The Power Broker:...|      Robert A. Caro|          4.51| 394720245|9.78039E12|          eng|     1344|        11208|              1237|       7/12/1975|             Vintage|\n",
            "|  1729|Metamorphoses: Vo...|Ovid/Frank Justus...|          4.52| 674990471|9.78067E12|          eng|      499|           61|                 4|        1/1/1985|Harvard Universit...|\n",
            "|  1750|Dionysiac Poetics...|       Charles Segal|          4.62|069101597X|9.78069E12|          eng|      440|           12|                 0|      11/16/1997|Princeton Univers...|\n",
            "|  2005|Harry Potter and ...|        J.K. Rowling|          4.57| 747584664|9.78075E12|          eng|      768|         1213|                78|       6/23/2006|Bloomsbury Publis...|\n",
            "|  2034|Comoediae 1: Acha...|Aristophanes/F.W....|           5.0| 198145047| 9.7802E12|          grc|      364|            0|                 0|       2/22/1922|Oxford University...|\n",
            "+------+--------------------+--------------------+--------------+----------+----------+-------------+---------+-------------+------------------+----------------+--------------------+\n",
            "only showing top 20 rows\n",
            "\n"
          ]
        }
      ]
    },
    {
      "cell_type": "markdown",
      "metadata": {
        "id": "UYqUxx70mxGV"
      },
      "source": [
        "**Step 4**: Filter the dataset to include books that have an average rating of greater than 4.5 and the publisher is 'Ballantine Books'"
      ]
    },
    {
      "cell_type": "code",
      "metadata": {
        "id": "5NCtb0XCnEgm",
        "colab": {
          "base_uri": "https://localhost:8080/"
        },
        "outputId": "00fddac9-040c-4736-b5b8-b6e6060c8acc"
      },
      "source": [
        "sqlDF.filter(\"average_rating > 4.5\").filter(\"publisher == 'Ballantine Books'\").show()"
      ],
      "execution_count": 33,
      "outputs": [
        {
          "output_type": "stream",
          "name": "stdout",
          "text": [
            "+------+--------------------+--------------+--------------+---------+----------+-------------+---------+-------------+------------------+----------------+----------------+\n",
            "|bookID|               title|       authors|average_rating|     isbn|    isbn13|language_code|num_pages|ratings_count|text_reviews_count|publication_date|       publisher|\n",
            "+------+--------------------+--------------+--------------+---------+----------+-------------+---------+-------------+------------------+----------------+----------------+\n",
            "|    30|J.R.R. Tolkien 4-...|J.R.R. Tolkien|          4.59|345538374|9.78035E12|          eng|     1728|       101233|              1550|       9/25/2012|Ballantine Books|\n",
            "+------+--------------------+--------------+--------------+---------+----------+-------------+---------+-------------+------------------+----------------+----------------+\n",
            "\n"
          ]
        }
      ]
    },
    {
      "cell_type": "markdown",
      "metadata": {
        "id": "hluwF-Eju6sE"
      },
      "source": [
        "**Step 5**: Add a new column that depicts for each book what proportion of the overall ratings count are text review counts"
      ]
    },
    {
      "cell_type": "code",
      "metadata": {
        "id": "WPH7K4xsvRWn",
        "colab": {
          "base_uri": "https://localhost:8080/"
        },
        "outputId": "fc827254-7ed8-44bb-cb68-9fe86e551a88"
      },
      "source": [
        "import pyspark.sql.functions as F\n",
        "\n",
        "sqlDF = sqlDF.withColumn(\"proportion_of_ratings\", F.bround((sqlDF.text_reviews_count/sqlDF.ratings_count),2))\n",
        "sqlDF = sqlDF.withColumn(\"avg_rating_decimal\", sqlDF.average_rating.cast('Decimal(4,2)'))\n",
        "sqlDF.show()"
      ],
      "execution_count": 34,
      "outputs": [
        {
          "output_type": "stream",
          "name": "stdout",
          "text": [
            "+------+--------------------+--------------------+--------------+----------+----------+-------------+---------+-------------+------------------+----------------+--------------------+---------------------+------------------+\n",
            "|bookID|               title|             authors|average_rating|      isbn|    isbn13|language_code|num_pages|ratings_count|text_reviews_count|publication_date|           publisher|proportion_of_ratings|avg_rating_decimal|\n",
            "+------+--------------------+--------------------+--------------+----------+----------+-------------+---------+-------------+------------------+----------------+--------------------+---------------------+------------------+\n",
            "|     1|Harry Potter and ...|J.K. Rowling/Mary...|          4.57| 439785960|9.78044E12|          eng|      652|      2095690|             27591|       9/16/2006|     Scholastic Inc.|                 0.01|              4.57|\n",
            "|     2|Harry Potter and ...|J.K. Rowling/Mary...|          4.49| 439358078|9.78044E12|          eng|      870|      2153167|             29221|        9/1/2004|     Scholastic Inc.|                 0.01|              4.49|\n",
            "|     4|Harry Potter and ...|        J.K. Rowling|          4.42| 439554896|9.78044E12|          eng|      352|         6333|               244|       11/1/2003|          Scholastic|                 0.04|              4.42|\n",
            "|     5|Harry Potter and ...|J.K. Rowling/Mary...|          4.56|043965548X|9.78044E12|          eng|      435|      2339585|             36325|        5/1/2004|     Scholastic Inc.|                 0.02|              4.56|\n",
            "|     8|Harry Potter Boxe...|J.K. Rowling/Mary...|          4.78| 439682584|9.78044E12|          eng|     2690|        41428|               164|       9/13/2004|          Scholastic|                  0.0|              4.78|\n",
            "|     9|\"Unauthorized Har...|W. Frederick Zimm...|          3.74| 976540606|9.78098E12|        en-US|      152|           19|                 1|       4/26/2005|        Nimble Books|                 0.05|              3.74|\n",
            "|    10|Harry Potter Coll...|        J.K. Rowling|          4.73| 439827604|9.78044E12|          eng|     3342|        28242|               808|       9/12/2005|          Scholastic|                 0.03|              4.73|\n",
            "|    12|The Ultimate Hitc...|       Douglas Adams|          4.38| 517226952|9.78052E12|          eng|      815|         3628|               254|       11/1/2005|      Gramercy Books|                 0.07|              4.38|\n",
            "|    13|The Ultimate Hitc...|       Douglas Adams|          4.38| 345453743|9.78035E12|          eng|      815|       249558|              4080|       4/30/2002|       Del Rey Books|                 0.02|              4.38|\n",
            "|    14|The Hitchhiker's ...|       Douglas Adams|          4.22|1400052920| 9.7814E12|          eng|      215|         4930|               460|        8/3/2004|               Crown|                 0.09|              4.22|\n",
            "|    16|The Hitchhiker's ...|Douglas Adams/Ste...|          4.22| 739322206|9.78074E12|          eng|        6|         1266|               253|       3/23/2005|  Random House Audio|                  0.2|              4.22|\n",
            "|    18|The Ultimate Hitc...|       Douglas Adams|          4.38| 517149257|9.78052E12|          eng|      815|         2877|               195|       1/17/1996|         Wings Books|                 0.07|              4.38|\n",
            "|    21|A Short History o...|         Bill Bryson|          4.21|076790818X|9.78077E12|          eng|      544|       248558|              9396|       9/14/2004|      Broadway Books|                 0.04|              4.21|\n",
            "|    22|Bill Bryson's Afr...|         Bill Bryson|          3.44| 767915062|9.78077E12|          eng|       55|         7270|               499|       12/3/2002|      Broadway Books|                 0.07|              3.44|\n",
            "|    23|Bryson's Dictiona...|         Bill Bryson|          3.87| 767910435|9.78077E12|          eng|      256|         2088|               131|       9/14/2004|      Broadway Books|                 0.06|              3.87|\n",
            "|    24|In a Sunburned Co...|         Bill Bryson|          4.07| 767903862|9.78077E12|          eng|      335|        72451|              4245|       5/15/2001|      Broadway Books|                 0.06|              4.07|\n",
            "|    25|I'm a Stranger He...|         Bill Bryson|           3.9|076790382X|9.78077E12|          eng|      304|        49240|              2211|       6/28/2000|      Broadway Books|                 0.04|              3.90|\n",
            "|    26|The Lost Continen...|         Bill Bryson|          3.83|  60920084|9.78006E12|          eng|      299|        45712|              2257|       8/28/1990|William Morrow Pa...|                 0.05|              3.83|\n",
            "|    27|Neither Here nor ...|         Bill Bryson|          3.86| 380713802|9.78038E12|          eng|      254|        48701|              2238|       3/28/1993|William Morrow Pa...|                 0.05|              3.86|\n",
            "|    28|Notes from a Smal...|         Bill Bryson|          3.91| 380727501|9.78038E12|          eng|      324|        80609|              3301|       5/28/1997|William Morrow Pa...|                 0.04|              3.91|\n",
            "+------+--------------------+--------------------+--------------+----------+----------+-------------+---------+-------------+------------------+----------------+--------------------+---------------------+------------------+\n",
            "only showing top 20 rows\n",
            "\n"
          ]
        }
      ]
    },
    {
      "cell_type": "markdown",
      "metadata": {
        "id": "6Zoddbq5xKCi"
      },
      "source": [
        "# Aggregating data using GroupBy"
      ]
    },
    {
      "cell_type": "markdown",
      "metadata": {
        "id": "qMsYsMQ7xfnl"
      },
      "source": [
        "**Step 6**: Find the lowest average_rating where the publisher if 'Broadway Books'"
      ]
    },
    {
      "cell_type": "code",
      "metadata": {
        "id": "erLiRLX3xsRN",
        "colab": {
          "base_uri": "https://localhost:8080/"
        },
        "outputId": "13740cdd-77cf-42b9-9c47-e4e4c1a7c4c2"
      },
      "source": [
        "sqlDF.filter(\"publisher == 'Broadway Books'\").groupBy().min(\"avg_rating_decimal\").show()"
      ],
      "execution_count": 35,
      "outputs": [
        {
          "output_type": "stream",
          "name": "stdout",
          "text": [
            "+-----------------------+\n",
            "|min(avg_rating_decimal)|\n",
            "+-----------------------+\n",
            "|                   3.25|\n",
            "+-----------------------+\n",
            "\n"
          ]
        }
      ]
    },
    {
      "cell_type": "markdown",
      "metadata": {
        "id": "EqSVIjNbyfaf"
      },
      "source": [
        "**Step 7**: Find the highest average_rating where the publisher if 'Broadway Books'\n"
      ]
    },
    {
      "cell_type": "code",
      "metadata": {
        "id": "DuOKT5VCys1-",
        "colab": {
          "base_uri": "https://localhost:8080/"
        },
        "outputId": "a935e204-b422-4ce8-82e1-931cf9aa609c"
      },
      "source": [
        "sqlDF.filter(\"publisher == 'Broadway Books'\").groupBy().max(\"avg_rating_decimal\").show()\n",
        "#groupBy(): group all rows into one"
      ],
      "execution_count": 36,
      "outputs": [
        {
          "output_type": "stream",
          "name": "stdout",
          "text": [
            "+-----------------------+\n",
            "|max(avg_rating_decimal)|\n",
            "+-----------------------+\n",
            "|                   4.43|\n",
            "+-----------------------+\n",
            "\n"
          ]
        }
      ]
    },
    {
      "cell_type": "markdown",
      "metadata": {
        "id": "O-HFgYsNyx_t"
      },
      "source": [
        "**Step 8**: Ascertain the cumulative count of ratings received for Broadway Books"
      ]
    },
    {
      "cell_type": "code",
      "metadata": {
        "id": "6n7FMMe_y7b_",
        "colab": {
          "base_uri": "https://localhost:8080/"
        },
        "outputId": "35b48f6c-7832-45e4-96ac-9abe75074bcc"
      },
      "source": [
        "#First convert from string type to integer\n",
        "sqlDF = sqlDF.withColumn(\"total_rating_count\", sqlDF.ratings_count.cast('Integer'))\n",
        "sqlDF.filter(\"publisher == 'Broadway Books'\").groupBy().sum(\"total_rating_count\").show()"
      ],
      "execution_count": 37,
      "outputs": [
        {
          "output_type": "stream",
          "name": "stdout",
          "text": [
            "+-----------------------+\n",
            "|sum(total_rating_count)|\n",
            "+-----------------------+\n",
            "|                 695164|\n",
            "+-----------------------+\n",
            "\n"
          ]
        }
      ]
    },
    {
      "cell_type": "markdown",
      "metadata": {
        "id": "YILnIJDH0isO"
      },
      "source": [
        "**Step 9:** Ascertain the average  count of ratings received for Broadway Books"
      ]
    },
    {
      "cell_type": "code",
      "metadata": {
        "id": "2iZY9tGs0zfx",
        "colab": {
          "base_uri": "https://localhost:8080/"
        },
        "outputId": "107c6835-ec1c-4903-99c5-dd4e77dc62e5"
      },
      "source": [
        "sqlDF.filter(\"publisher == 'Broadway Books'\").groupBy().avg(\"total_rating_count\").show()"
      ],
      "execution_count": 38,
      "outputs": [
        {
          "output_type": "stream",
          "name": "stdout",
          "text": [
            "+-----------------------+\n",
            "|avg(total_rating_count)|\n",
            "+-----------------------+\n",
            "|     14187.020408163266|\n",
            "+-----------------------+\n",
            "\n"
          ]
        }
      ]
    },
    {
      "cell_type": "markdown",
      "metadata": {
        "id": "u4ZTPTP21gIO"
      },
      "source": [
        "**Step 10**: Show average count of ratings for each publisher"
      ]
    },
    {
      "cell_type": "code",
      "metadata": {
        "id": "bL67c_-Y1ont",
        "colab": {
          "base_uri": "https://localhost:8080/"
        },
        "outputId": "933174b9-1eb8-4ef4-d412-10a5e2212226"
      },
      "source": [
        "sqlDF.groupBy(\"publisher\").avg(\"total_rating_count\").show()\n"
      ],
      "execution_count": 39,
      "outputs": [
        {
          "output_type": "stream",
          "name": "stdout",
          "text": [
            "+--------------------+-----------------------+\n",
            "|           publisher|avg(total_rating_count)|\n",
            "+--------------------+-----------------------+\n",
            "|       The New Press|                 1693.0|\n",
            "|        Chosen Books|                  536.5|\n",
            "|       Digireads.com|     24628.166666666668|\n",
            "|               Ember|               351258.4|\n",
            "|           IVP Books|                   10.5|\n",
            "|       No Exit Press|                43253.8|\n",
            "|Dabel Brothers Pr...|                  276.0|\n",
            "|                 DAW|     5079.1463414634145|\n",
            "|      Celestial Arts|                  442.0|\n",
            "|Arcadia Publishin...|                    5.0|\n",
            "|Hachette Littérature|                    1.0|\n",
            "|         Cleis Press|                  428.5|\n",
            "|Chicago Review Press|      6315.857142857143|\n",
            "|                 HQN|                 7769.0|\n",
            "|World Wrestling E...|                 1154.0|\n",
            "|Wayne State Unive...|                   45.0|\n",
            "|           Doubleday|      8012.916666666667|\n",
            "|               Verso|     1204.8666666666666|\n",
            "|   Time Life Medical|                   60.2|\n",
            "|                 Roc|                16373.5|\n",
            "+--------------------+-----------------------+\n",
            "only showing top 20 rows\n",
            "\n"
          ]
        }
      ]
    },
    {
      "cell_type": "markdown",
      "source": [
        "### <font color = '#b246a8'>**Evaluate below two scripts based on Catalyst Optimizer**<font>"
      ],
      "metadata": {
        "id": "Osx2wvHhxFal"
      }
    },
    {
      "cell_type": "code",
      "source": [
        "sqlDF.filter(sqlDF[\"average_rating\"] > 4.5).select(\"language_code\").groupBy(\"language_code\").count().show(10)\n",
        "sqlDF.select(\"language_code\").filter(sqlDF[\"average_rating\"] > 4.5).groupBy(\"language_code\").count().show(10)"
      ],
      "metadata": {
        "colab": {
          "base_uri": "https://localhost:8080/"
        },
        "id": "UaVup0M4wRVN",
        "outputId": "4394d6bf-5f5d-4f5c-ef91-d0a48d802605"
      },
      "execution_count": 40,
      "outputs": [
        {
          "output_type": "stream",
          "name": "stdout",
          "text": [
            "+-------------+-----+\n",
            "|language_code|count|\n",
            "+-------------+-----+\n",
            "|          fre|    2|\n",
            "|          zho|    9|\n",
            "|          eng|  151|\n",
            "|          jpn|    4|\n",
            "|          grc|    2|\n",
            "|        en-GB|    2|\n",
            "|          wel|    1|\n",
            "|        en-US|   14|\n",
            "|          spa|    1|\n",
            "|          ger|    3|\n",
            "+-------------+-----+\n",
            "\n",
            "+-------------+-----+\n",
            "|language_code|count|\n",
            "+-------------+-----+\n",
            "|          fre|    2|\n",
            "|          zho|    9|\n",
            "|          eng|  151|\n",
            "|          jpn|    4|\n",
            "|          grc|    2|\n",
            "|        en-GB|    2|\n",
            "|          wel|    1|\n",
            "|        en-US|   14|\n",
            "|          spa|    1|\n",
            "|          ger|    3|\n",
            "+-------------+-----+\n",
            "\n"
          ]
        }
      ]
    },
    {
      "cell_type": "markdown",
      "source": [
        "\n",
        "\n",
        "### <font color = \"#b246a8\">**Try to make below SQL query working in Spark SQL**:<font><br>\n",
        "\n",
        "    select publisher,count(*)\n",
        "    From sqlDF\n",
        "    Group by publisher\n",
        "    Having count > 50\n",
        "    ORDER BY count DESC"
      ],
      "metadata": {
        "id": "G0-xrcnflpoB"
      }
    },
    {
      "cell_type": "code",
      "source": [
        "##### YOUR CODE####"
      ],
      "metadata": {
        "id": "g5D9OWyxng-s"
      },
      "execution_count": 41,
      "outputs": []
    },
    {
      "cell_type": "code",
      "source": [
        "result_df = sqlDF.groupBy(\"publisher\").count().filter(\"count > 100\").orderBy(\"count\", ascending = False).show()"
      ],
      "metadata": {
        "colab": {
          "base_uri": "https://localhost:8080/"
        },
        "id": "F3fhwKcglBKY",
        "outputId": "054e5303-1333-4d08-d2e6-e4416627c7a1"
      },
      "execution_count": 42,
      "outputs": [
        {
          "output_type": "stream",
          "name": "stdout",
          "text": [
            "+----------------+-----+\n",
            "|       publisher|count|\n",
            "+----------------+-----+\n",
            "|         Vintage|  318|\n",
            "|   Penguin Books|  261|\n",
            "|Penguin Classics|  184|\n",
            "|   Mariner Books|  150|\n",
            "|Ballantine Books|  144|\n",
            "|   HarperCollins|  112|\n",
            "|Harper Perennial|  112|\n",
            "|    Pocket Books|  111|\n",
            "|          Bantam|  110|\n",
            "+----------------+-----+\n",
            "\n"
          ]
        }
      ]
    },
    {
      "cell_type": "markdown",
      "source": [
        "### Aggregation"
      ],
      "metadata": {
        "id": "k9B5caIWzV5l"
      }
    },
    {
      "cell_type": "markdown",
      "metadata": {
        "id": "ehabJ7kl3iTi"
      },
      "source": [
        "We will utilize **.agg()** method - this method lets you pass an aggregate column expression that uses any of the aggregate functions from the pyspark.sql.functions submodule."
      ]
    },
    {
      "cell_type": "markdown",
      "metadata": {
        "id": "ZPFIWLYp5olg"
      },
      "source": [
        "The *pyspark.sql.functions* submodule includes a number of useful functions for performing a variety of computations like standard deviations. Note that all the aggregation functions in this submodule take the name of a column in a GroupedData table as demonstrated via the example below"
      ]
    },
    {
      "cell_type": "markdown",
      "metadata": {
        "id": "8ru0ujRC6i_0"
      },
      "source": [
        "**Step 11**: Compute the standard deviation of ratings count by publisher"
      ]
    },
    {
      "cell_type": "code",
      "metadata": {
        "id": "_yUTAK74n2P6",
        "colab": {
          "base_uri": "https://localhost:8080/"
        },
        "outputId": "fab1944b-e9d8-46a5-c91b-2ced03369e24"
      },
      "source": [
        "# Import pyspark.sql.functions as F\n",
        "import pyspark.sql.functions as F\n",
        "# Standard deviation of ratings count by publisher\n",
        "sqlDF.groupBy(\"publisher\").agg(F.stddev(\"ratings_count\")).orderBy(F.stddev(\"ratings_count\"), ascending = False).show()"
      ],
      "execution_count": 43,
      "outputs": [
        {
          "output_type": "stream",
          "name": "stdout",
          "text": [
            "+--------------------+---------------------+\n",
            "|           publisher|stddev(ratings_count)|\n",
            "+--------------------+---------------------+\n",
            "|Disney Hyperion B...|    1241802.544343504|\n",
            "|     Scholastic Inc.|    963197.5380474158|\n",
            "|Little  Brown and...|     952459.224639278|\n",
            "|      Simon Schuster|    914632.1242599855|\n",
            "|HarperCollinsPubl...|    749072.9172199015|\n",
            "|               Ember|    691000.7816122931|\n",
            "|    Houghton Mifflin|    588231.2736483144|\n",
            "|     Algonquin Books|    563081.6536129551|\n",
            "|              Norton|   470158.83434484137|\n",
            "|                 NAL|    457992.3958347427|\n",
            "|      Back Bay Books|   400042.44932852243|\n",
            "|Houghton Mifflin ...|   340970.51820230315|\n",
            "|      Hyperion Books|   309891.31074566557|\n",
            "|     Signet Classics|   306878.19774343196|\n",
            "|     Alfred A. Knopf|   292050.45244580234|\n",
            "|          Dial Press|    271033.2209338118|\n",
            "|     Riverhead Books|   265556.30612197134|\n",
            "|W.W. Norton & Com...|   253362.72366017065|\n",
            "|Addison Wesley Pu...|    241793.3436815414|\n",
            "|        Pocket Books|   230852.39095801584|\n",
            "+--------------------+---------------------+\n",
            "only showing top 20 rows\n",
            "\n"
          ]
        }
      ]
    },
    {
      "cell_type": "markdown",
      "metadata": {
        "id": "2P534ZLc1_Wb"
      },
      "source": [
        "# Joining datasets using Spark SQL"
      ]
    },
    {
      "cell_type": "markdown",
      "source": [
        "## Join Optimization:\n",
        "\n",
        "The optimizer can re-order join operations to minimize the amount of data shuffled across the cluster. It chooses the join order based on statistics about the data size.\n",
        "For instance, joining a smaller table with a larger table by broadcasting the smaller table to all nodes reduces the need for extensive shuffling. <Br>\n",
        "\n",
        "Spark might broadcast small df to all nodes to perform the join efficiently."
      ],
      "metadata": {
        "id": "SyrBGTiLs6C0"
      }
    },
    {
      "cell_type": "code",
      "metadata": {
        "colab": {
          "base_uri": "https://localhost:8080/"
        },
        "id": "nYFbYMAe2ncT",
        "outputId": "088a0b02-ac66-41cf-ede8-3e0428b375a8"
      },
      "source": [
        "# Create the tables that will be joined\n",
        "\n",
        "valuesA = [('Dog',1),('Monkey',2),('Elephant',3),('Penguin',4)]\n",
        "TableA = spark.createDataFrame(valuesA,['name','id'])\n",
        "\n",
        "valuesB = [('Lizard',1),('Dog',2),('Elephant',3),('Rat',4)]\n",
        "TableB = spark.createDataFrame(valuesB,['name','id'])\n",
        "\n",
        "TableA.show()\n",
        "TableB.show()"
      ],
      "execution_count": 44,
      "outputs": [
        {
          "output_type": "stream",
          "name": "stdout",
          "text": [
            "+--------+---+\n",
            "|    name| id|\n",
            "+--------+---+\n",
            "|     Dog|  1|\n",
            "|  Monkey|  2|\n",
            "|Elephant|  3|\n",
            "| Penguin|  4|\n",
            "+--------+---+\n",
            "\n",
            "+--------+---+\n",
            "|    name| id|\n",
            "+--------+---+\n",
            "|  Lizard|  1|\n",
            "|     Dog|  2|\n",
            "|Elephant|  3|\n",
            "|     Rat|  4|\n",
            "+--------+---+\n",
            "\n"
          ]
        }
      ]
    },
    {
      "cell_type": "code",
      "metadata": {
        "id": "v3xgitfD3p-_"
      },
      "source": [
        "# Create table aliases\n",
        "\n",
        "T1 = TableA.alias('T1')\n",
        "T2 = TableB.alias('T2')"
      ],
      "execution_count": 45,
      "outputs": []
    },
    {
      "cell_type": "code",
      "metadata": {
        "colab": {
          "base_uri": "https://localhost:8080/"
        },
        "id": "2q2djTlj35Yz",
        "outputId": "847da8ee-fdaf-44bf-e17d-3754f2dfca4e"
      },
      "source": [
        "# Inner Join on name - returns matching records from the 2 tables respectively\n",
        "\n",
        "T1.join(T2, T1.name == T2.name, 'inner').show()\n"
      ],
      "execution_count": 46,
      "outputs": [
        {
          "output_type": "stream",
          "name": "stdout",
          "text": [
            "+--------+---+--------+---+\n",
            "|    name| id|    name| id|\n",
            "+--------+---+--------+---+\n",
            "|     Dog|  1|     Dog|  2|\n",
            "|Elephant|  3|Elephant|  3|\n",
            "+--------+---+--------+---+\n",
            "\n"
          ]
        }
      ]
    },
    {
      "cell_type": "code",
      "metadata": {
        "colab": {
          "base_uri": "https://localhost:8080/"
        },
        "id": "ayUtEkNs4cku",
        "outputId": "3339e34d-a2a7-451a-a275-21ead3b7eca2"
      },
      "source": [
        "# Left Join Example - If you want to select all records from table 1 and return data from table 2 when it matches, you choose ‘left’\n",
        "\n",
        "T1.join(T2, T1.name == T2.name, 'left').show()"
      ],
      "execution_count": 47,
      "outputs": [
        {
          "output_type": "stream",
          "name": "stdout",
          "text": [
            "+--------+---+--------+----+\n",
            "|    name| id|    name|  id|\n",
            "+--------+---+--------+----+\n",
            "|  Monkey|  2|    NULL|NULL|\n",
            "|     Dog|  1|     Dog|   2|\n",
            "|Elephant|  3|Elephant|   3|\n",
            "| Penguin|  4|    NULL|NULL|\n",
            "+--------+---+--------+----+\n",
            "\n"
          ]
        }
      ]
    },
    {
      "cell_type": "code",
      "metadata": {
        "colab": {
          "base_uri": "https://localhost:8080/"
        },
        "id": "RtDKoWQF5KPk",
        "outputId": "3e61cfee-84f4-4b9d-c995-8922c9b2b7bc"
      },
      "source": [
        "# Left Join - filtering out nulls\n",
        "\n",
        "left_join = T1.join(T2, T1.name == T2.name, 'left')\n",
        "left_join.filter((T2.name).isNotNull()).show()"
      ],
      "execution_count": 48,
      "outputs": [
        {
          "output_type": "stream",
          "name": "stdout",
          "text": [
            "+--------+---+--------+---+\n",
            "|    name| id|    name| id|\n",
            "+--------+---+--------+---+\n",
            "|     Dog|  1|     Dog|  2|\n",
            "|Elephant|  3|Elephant|  3|\n",
            "+--------+---+--------+---+\n",
            "\n"
          ]
        }
      ]
    },
    {
      "cell_type": "code",
      "metadata": {
        "colab": {
          "base_uri": "https://localhost:8080/"
        },
        "id": "r8rR5L_B6LsY",
        "outputId": "229b99d4-c346-49eb-8a54-fb2a1f6d0376"
      },
      "source": [
        "# Right Join Example - If you want to select all records from table 2 and return data from table 1 when it matches, you choose ‘right’\n",
        "\n",
        "T1.join(T2, T1.name == T2.name, 'right').show()"
      ],
      "execution_count": 49,
      "outputs": [
        {
          "output_type": "stream",
          "name": "stdout",
          "text": [
            "+--------+----+--------+---+\n",
            "|    name|  id|    name| id|\n",
            "+--------+----+--------+---+\n",
            "|    NULL|NULL|  Lizard|  1|\n",
            "|     Dog|   1|     Dog|  2|\n",
            "|Elephant|   3|Elephant|  3|\n",
            "|    NULL|NULL|     Rat|  4|\n",
            "+--------+----+--------+---+\n",
            "\n"
          ]
        }
      ]
    },
    {
      "cell_type": "code",
      "metadata": {
        "colab": {
          "base_uri": "https://localhost:8080/"
        },
        "id": "EgcMInny6ULS",
        "outputId": "b7c9328a-07ca-4ec3-a0ad-30da7fa3b89d"
      },
      "source": [
        "# Full Outer Join - This shows all records from the left table and all the records from the right table and nulls where the two do not match\n",
        "\n",
        "T1.join(T2, T1.name == T2.name,how='full').show()"
      ],
      "execution_count": 50,
      "outputs": [
        {
          "output_type": "stream",
          "name": "stdout",
          "text": [
            "+--------+----+--------+----+\n",
            "|    name|  id|    name|  id|\n",
            "+--------+----+--------+----+\n",
            "|     Dog|   1|     Dog|   2|\n",
            "|Elephant|   3|Elephant|   3|\n",
            "|    NULL|NULL|  Lizard|   1|\n",
            "|  Monkey|   2|    NULL|NULL|\n",
            "| Penguin|   4|    NULL|NULL|\n",
            "|    NULL|NULL|     Rat|   4|\n",
            "+--------+----+--------+----+\n",
            "\n"
          ]
        }
      ]
    },
    {
      "cell_type": "code",
      "source": [
        "union_dfs = T1.unionAll(T2).orderBy(\"name\").show()"
      ],
      "metadata": {
        "colab": {
          "base_uri": "https://localhost:8080/"
        },
        "id": "OXTQ6S5KjIsy",
        "outputId": "5922b861-b8e3-4d7a-d81c-a2211b3ba75b"
      },
      "execution_count": 51,
      "outputs": [
        {
          "output_type": "stream",
          "name": "stdout",
          "text": [
            "+--------+---+\n",
            "|    name| id|\n",
            "+--------+---+\n",
            "|     Dog|  1|\n",
            "|     Dog|  2|\n",
            "|Elephant|  3|\n",
            "|Elephant|  3|\n",
            "|  Lizard|  1|\n",
            "|  Monkey|  2|\n",
            "| Penguin|  4|\n",
            "|     Rat|  4|\n",
            "+--------+---+\n",
            "\n"
          ]
        }
      ]
    },
    {
      "cell_type": "code",
      "source": [
        "union_dfs = T1.union(T2).show()"
      ],
      "metadata": {
        "colab": {
          "base_uri": "https://localhost:8080/"
        },
        "id": "TFobXYUTjQh-",
        "outputId": "3051cab0-4400-4e9d-8330-66bc20753341"
      },
      "execution_count": 52,
      "outputs": [
        {
          "output_type": "stream",
          "name": "stdout",
          "text": [
            "+--------+---+\n",
            "|    name| id|\n",
            "+--------+---+\n",
            "|     Dog|  1|\n",
            "|  Monkey|  2|\n",
            "|Elephant|  3|\n",
            "| Penguin|  4|\n",
            "|  Lizard|  1|\n",
            "|     Dog|  2|\n",
            "|Elephant|  3|\n",
            "|     Rat|  4|\n",
            "+--------+---+\n",
            "\n"
          ]
        }
      ]
    },
    {
      "cell_type": "markdown",
      "source": [
        "### Sampling"
      ],
      "metadata": {
        "id": "u-gK4OVuo-5V"
      }
    },
    {
      "cell_type": "code",
      "source": [
        "# Sample 10% of the data from a DataFrame using DataFrame API\n",
        "sample_df = sqlDF.sample(False, 0.1, seed=42).show()"
      ],
      "metadata": {
        "colab": {
          "base_uri": "https://localhost:8080/"
        },
        "id": "VWry3upKjTfy",
        "outputId": "ee974ea4-f2f5-4f97-da3c-945bb5eb83ca"
      },
      "execution_count": 53,
      "outputs": [
        {
          "output_type": "stream",
          "name": "stdout",
          "text": [
            "+------+--------------------+--------------------+--------------+----------+----------+-------------+---------+-------------+------------------+----------------+--------------------+---------------------+------------------+------------------+\n",
            "|bookID|               title|             authors|average_rating|      isbn|    isbn13|language_code|num_pages|ratings_count|text_reviews_count|publication_date|           publisher|proportion_of_ratings|avg_rating_decimal|total_rating_count|\n",
            "+------+--------------------+--------------------+--------------+----------+----------+-------------+---------+-------------+------------------+----------------+--------------------+---------------------+------------------+------------------+\n",
            "|    12|The Ultimate Hitc...|       Douglas Adams|          4.38| 517226952|9.78052E12|          eng|      815|         3628|               254|       11/1/2005|      Gramercy Books|                 0.07|              4.38|              3628|\n",
            "|    25|I'm a Stranger He...|         Bill Bryson|           3.9|076790382X|9.78077E12|          eng|      304|        49240|              2211|       6/28/2000|      Broadway Books|                 0.04|              3.90|             49240|\n",
            "|    27|Neither Here nor ...|         Bill Bryson|          3.86| 380713802|9.78038E12|          eng|      254|        48701|              2238|       3/28/1993|William Morrow Pa...|                 0.05|              3.86|             48701|\n",
            "|    80|La Place de la Co...|         John McPhee|          3.92| 374519323|9.78037E12|          fre|      160|          698|                52|        4/1/1994|Farrar  Straus an...|                 0.07|              3.92|               698|\n",
            "|    92|Mapping the Big P...|  Heidi Hayes Jacobs|          3.68| 871202867|9.78087E12|        en-US|      108|           77|                 2|       1/28/1997|Association for S...|                 0.03|              3.68|                77|\n",
            "|    99|The Player's Hand...|Heidi Fleiss/Libb...|          3.82| 972016414|9.78097E12|          eng|      123|           34|                 8|       5/10/2004|One Hour Entertai...|                 0.24|              3.82|                34|\n",
            "|   105|Chapterhouse: Dun...|       Frank Herbert|          3.91| 441102670|9.78044E12|          eng|      436|        38778|               568|        7/1/1987|           Ace Books|                 0.01|              3.91|             38778|\n",
            "|   119|The Lord of the R...|        Gary Russell|          4.59| 618212906|9.78062E12|          eng|      192|        26153|               102|       6/12/2002|Houghton Mifflin ...|                  0.0|              4.59|             26153|\n",
            "|   133|    eBay for Dummies|      Marsha Collier|           3.5| 470045299|9.78047E12|          eng|      386|          111|                 9|      10/30/2006|               Wiley|                 0.08|              3.50|               111|\n",
            "|   147|Rails Cookbook: R...|          Rob Orsini|          3.48| 596527314| 9.7806E12|          eng|      514|           64|                 1|        1/1/2007|      O'Reilly Media|                 0.02|              3.48|                64|\n",
            "|   152|       Anna Karenina|Leo Tolstoy/David...|          4.05| 451528611|9.78045E12|          eng|      960|       109420|              5696|       11/5/2002|              Signet|                 0.05|              4.05|            109420|\n",
            "|   168|Growing Up Untouc...|Vasant Moon/Gail ...|          3.65| 742508803|9.78074E12|          eng|      224|           16|                 4|      12/20/2000|Rowman & Littlefi...|                 0.25|              3.65|                16|\n",
            "|   177|\"A Wrinkle in Tim...|John Carratello/P...|           4.0|1557344035|9.78156E12|          eng|       48|           17|                 0|       9/28/1991|Teacher Created R...|                  0.0|              4.00|                17|\n",
            "|   180|    Wrinkles in Time|George Smoot/Keay...|          4.01| 380720442|9.78038E12|          eng|      360|         1035|                23|       10/1/1994|    Harper Perennial|                 0.02|              4.01|              1035|\n",
            "|   201|Una arruga en el ...|   Madeleine L'Engle|           4.0| 606105263|9.78061E12|          spa|      205|            6|                 1|        6/1/1984|    Turtleback Books|                 0.17|              4.00|                 6|\n",
            "|   247|Quiet Days in Clichy|        Henry Miller|          3.69|080213016X| 9.7808E12|          eng|      154|         3381|               141|       1/13/1994|         Grove Press|                 0.04|              3.69|              3381|\n",
            "|   264|The Portrait of a...|Henry James/Patri...|          3.78| 141439637|9.78014E12|          eng|      797|        61640|              1951|       9/30/2003|    Penguin Classics|                 0.03|              3.78|             61640|\n",
            "|   292|       Sand and Foam|Kahlil Gibran/جبر...|          4.08|067943920X|9.78068E12|          eng|      100|         3015|               217|       6/14/2011|               Knopf|                 0.07|              4.08|              3015|\n",
            "|   297|     Treasure Island|Robert Louis Stev...|          3.83|1416500294|9.78142E12|          eng|      245|         5967|               276|        6/1/2005|    Simon & Schuster|                 0.05|              3.83|              5967|\n",
            "|   411|The Crying of Lot 49|      Thomas Pynchon|          3.69|  60931671|9.78006E12|          eng|      152|         2161|               230|        4/1/1999|    Harper Perennial|                 0.11|              3.69|              2161|\n",
            "+------+--------------------+--------------------+--------------+----------+----------+-------------+---------+-------------+------------------+----------------+--------------------+---------------------+------------------+------------------+\n",
            "only showing top 20 rows\n",
            "\n"
          ]
        }
      ]
    },
    {
      "cell_type": "markdown",
      "source": [
        "### Error Handling"
      ],
      "metadata": {
        "id": "hQr_zV0ApBVI"
      }
    },
    {
      "cell_type": "code",
      "source": [
        "try:\n",
        "    # Execute an action that may cause an error\n",
        "    sqlDF.show(3)\n",
        "except Exception as e:\n",
        "    # Handle the exception\n",
        "    print(\"An error occurred:\", e)\n"
      ],
      "metadata": {
        "colab": {
          "base_uri": "https://localhost:8080/"
        },
        "id": "UGLREXlVpDqQ",
        "outputId": "7d8575b3-d167-495d-cdea-699bbb6a771f"
      },
      "execution_count": 54,
      "outputs": [
        {
          "output_type": "stream",
          "name": "stdout",
          "text": [
            "+------+--------------------+--------------------+--------------+---------+----------+-------------+---------+-------------+------------------+----------------+---------------+---------------------+------------------+------------------+\n",
            "|bookID|               title|             authors|average_rating|     isbn|    isbn13|language_code|num_pages|ratings_count|text_reviews_count|publication_date|      publisher|proportion_of_ratings|avg_rating_decimal|total_rating_count|\n",
            "+------+--------------------+--------------------+--------------+---------+----------+-------------+---------+-------------+------------------+----------------+---------------+---------------------+------------------+------------------+\n",
            "|     1|Harry Potter and ...|J.K. Rowling/Mary...|          4.57|439785960|9.78044E12|          eng|      652|      2095690|             27591|       9/16/2006|Scholastic Inc.|                 0.01|              4.57|           2095690|\n",
            "|     2|Harry Potter and ...|J.K. Rowling/Mary...|          4.49|439358078|9.78044E12|          eng|      870|      2153167|             29221|        9/1/2004|Scholastic Inc.|                 0.01|              4.49|           2153167|\n",
            "|     4|Harry Potter and ...|        J.K. Rowling|          4.42|439554896|9.78044E12|          eng|      352|         6333|               244|       11/1/2003|     Scholastic|                 0.04|              4.42|              6333|\n",
            "+------+--------------------+--------------------+--------------+---------+----------+-------------+---------+-------------+------------------+----------------+---------------+---------------------+------------------+------------------+\n",
            "only showing top 3 rows\n",
            "\n"
          ]
        }
      ]
    },
    {
      "cell_type": "markdown",
      "source": [
        "### <font color = \"#ec39d1\">***Great Job!***<font>"
      ],
      "metadata": {
        "id": "IX46-U-OpnYy"
      }
    }
  ]
}